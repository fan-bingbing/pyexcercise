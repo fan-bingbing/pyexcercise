{
 "cells": [
  {
   "cell_type": "code",
   "execution_count": 7,
   "metadata": {
    "scrolled": true
   },
   "outputs": [
    {
     "name": "stdout",
     "output_type": "stream",
     "text": [
      "input a number:r\n",
      "this is not a number, try again.\n",
      "end of try/except/finally\n",
      "I will always run in the end.\n",
      "input a number:f\n",
      "this is not a number, try again.\n",
      "end of try/except/finally\n",
      "I will always run in the end.\n",
      "input a number:t\n",
      "this is not a number, try again.\n",
      "end of try/except/finally\n",
      "I will always run in the end.\n",
      "input a number:3\n",
      "yes, thank you.\n",
      "end of try/except/finally\n",
      "I will always run in the end.\n"
     ]
    }
   ],
   "source": [
    "def ask_for_int():\n",
    "    while True:\n",
    "        try:\n",
    "            result = int(input(\"input a number:\"))\n",
    "        except:\n",
    "            print(\"this is not a number, try again.\")\n",
    "            continue\n",
    "        else:\n",
    "            print(\"yes, thank you.\")\n",
    "            break\n",
    "        finally:\n",
    "            print(\"end of try/except/finally\")\n",
    "            print(\"I will always run in the end.\")\n",
    "        \n",
    "ask_for_int()\n",
    "        "
   ]
  },
  {
   "cell_type": "code",
   "execution_count": 1,
   "metadata": {},
   "outputs": [
    {
     "data": {
      "text/plain": [
       "7.0"
      ]
     },
     "execution_count": 1,
     "metadata": {},
     "output_type": "execute_result"
    }
   ],
   "source": [
    "def myfunc1(*args): # *args accept arbitrary number of values and take them as a tuple\n",
    "    return sum(args)*.05\n",
    "myfunc1(20,30,40,50)"
   ]
  },
  {
   "cell_type": "code",
   "execution_count": 6,
   "metadata": {},
   "outputs": [
    {
     "name": "stdout",
     "output_type": "stream",
     "text": [
      "my favorite fruit is banana\n"
     ]
    }
   ],
   "source": [
    "def myfunc2(**kwargs): # **kwargs accept arbitrary number of keyworded values and take them as a dictionary\n",
    "    if 'fruit' in kwargs:\n",
    "        print(f\"my favorite fruit is {kwargs['fruit']}\")\n",
    "    else:\n",
    "        print(\"I don't like fruit\")\n",
    "              \n",
    "myfunc2(fruit='banana')\n",
    "        "
   ]
  },
  {
   "cell_type": "code",
   "execution_count": 7,
   "metadata": {},
   "outputs": [
    {
     "name": "stdout",
     "output_type": "stream",
     "text": [
      "I like eggs and spam and sausage and my favorite fruit is banana\n",
      "May I have some apple juice? \n"
     ]
    }
   ],
   "source": [
    "def myfunc3(*args, **kwargs):\n",
    "    if 'fruit' and 'juice' in kwargs:\n",
    "        print(f\"I like {' and '.join(args)} and my favorite fruit is {kwargs['fruit']}\")\n",
    "        print(f\"May I have some {kwargs['juice']} juice? \")\n",
    "    else:\n",
    "        pass\n",
    "myfunc3('eggs', 'spam', 'sausage', fruit='banana', juice='apple')"
   ]
  },
  {
   "cell_type": "code",
   "execution_count": 10,
   "metadata": {},
   "outputs": [
    {
     "data": {
      "text/plain": [
       "33.49333333333333"
      ]
     },
     "execution_count": 10,
     "metadata": {},
     "output_type": "execute_result"
    }
   ],
   "source": [
    "def vol(rad):\n",
    "    return 3.14*(rad**3)*4/3\n",
    "vol(2)"
   ]
  },
  {
   "cell_type": "code",
   "execution_count": 13,
   "metadata": {},
   "outputs": [
    {
     "data": {
      "text/plain": [
       "True"
      ]
     },
     "execution_count": 13,
     "metadata": {},
     "output_type": "execute_result"
    }
   ],
   "source": [
    "def ran_bool(num, low, high):\n",
    "    return num in range(low, high+1)\n",
    "ran_bool(10,2,10)"
   ]
  },
  {
   "cell_type": "code",
   "execution_count": 14,
   "metadata": {},
   "outputs": [
    {
     "name": "stdout",
     "output_type": "stream",
     "text": [
      "No. of Upper case characters : 4\n",
      "No. of Lower case characters : 33\n"
     ]
    }
   ],
   "source": [
    "def up_low(s):\n",
    "    num_up = 0\n",
    "    num_low = 0\n",
    "    for word in s.split():\n",
    "        for letter in word:\n",
    "            if letter.isupper():\n",
    "                num_up +=1\n",
    "            elif letter.islower():\n",
    "                num_low +=1\n",
    "            else:\n",
    "                continue\n",
    "    print(f\"No. of Upper case characters : {num_up}\")\n",
    "    print(f\"No. of Lower case characters : {num_low}\")\n",
    "\n",
    "up_low('Hello Mr. Rogers, how are you this fine Tuesday?')\n",
    "        \n",
    "        "
   ]
  },
  {
   "cell_type": "code",
   "execution_count": 15,
   "metadata": {},
   "outputs": [
    {
     "data": {
      "text/plain": [
       "[1, 2, 3, 4, 5]"
      ]
     },
     "execution_count": 15,
     "metadata": {},
     "output_type": "execute_result"
    }
   ],
   "source": [
    "def unique_list(lst):\n",
    "    return list(set(lst))\n",
    "unique_list([1,1,1,1,2,2,3,3,3,3,4,5])"
   ]
  },
  {
   "cell_type": "code",
   "execution_count": 18,
   "metadata": {},
   "outputs": [
    {
     "data": {
      "text/plain": [
       "True"
      ]
     },
     "execution_count": 18,
     "metadata": {},
     "output_type": "execute_result"
    }
   ],
   "source": [
    "def palindrome(s):\n",
    "    return s == s[::-1]\n",
    "palindrome('helleh')"
   ]
  },
  {
   "cell_type": "code",
   "execution_count": 21,
   "metadata": {},
   "outputs": [
    {
     "data": {
      "text/plain": [
       "True"
      ]
     },
     "execution_count": 21,
     "metadata": {},
     "output_type": "execute_result"
    }
   ],
   "source": [
    "import string\n",
    "def ispangram(str1, alphabet=string.ascii_lowercase):\n",
    "    return set(str1.lower())>=set(alphabet)\n",
    "\n",
    "ispangram(\"The quick brown fox jumps over the lazy dog\")"
   ]
  }
 ],
 "metadata": {
  "kernelspec": {
   "display_name": "Python 3",
   "language": "python",
   "name": "python3"
  },
  "language_info": {
   "codemirror_mode": {
    "name": "ipython",
    "version": 3
   },
   "file_extension": ".py",
   "mimetype": "text/x-python",
   "name": "python",
   "nbconvert_exporter": "python",
   "pygments_lexer": "ipython3",
   "version": "3.7.5"
  }
 },
 "nbformat": 4,
 "nbformat_minor": 2
}
