{
 "cells": [
  {
   "cell_type": "code",
   "execution_count": 16,
   "metadata": {},
   "outputs": [
    {
     "name": "stdout",
     "output_type": "stream",
     "text": [
      "[2, 54, 12, 13, 5, 67, 7]\n"
     ]
    }
   ],
   "source": [
    "def even_odd(A):\n",
    "    next_even, next_odd = 0, len(A)-1\n",
    "    while next_even < next_odd:\n",
    "        if A[next_even] % 2 == 0:\n",
    "            next_even += 1\n",
    "        else:\n",
    "            A[next_even], A[next_odd] = A[next_odd], A[next_even]\n",
    "            next_odd -= 1\n",
    "    return A\n",
    "print(even_odd([2,7,5,12,13,54,67]))\n",
    "# time O(n), space O(1)"
   ]
  },
  {
   "cell_type": "code",
   "execution_count": 17,
   "metadata": {},
   "outputs": [
    {
     "name": "stdout",
     "output_type": "stream",
     "text": [
      "[2, 12, 54, 7, 5, 13, 67]\n"
     ]
    }
   ],
   "source": [
    "def even_odd_1(A):\n",
    "    B = list()\n",
    "    C = list()\n",
    "   \n",
    "    for i in range(0, len(A)):\n",
    "        if A[i] % 2 == 0:\n",
    "            B.append(A[i])\n",
    "        else:\n",
    "            C.append(A[i])\n",
    "    B.extend(C)\n",
    "    return B\n",
    "# brute force solution  timeO(n), spaceO(2n)\n",
    "print(even_odd_1([2,7,5,12,13,54,67]))"
   ]
  },
  {
   "cell_type": "code",
   "execution_count": 13,
   "metadata": {},
   "outputs": [
    {
     "name": "stdout",
     "output_type": "stream",
     "text": [
      "['apple', 'banana', 'cherry', 'Ford', 'BMW', 'Volvo']\n"
     ]
    }
   ],
   "source": [
    "fruits = ['apple', 'banana', 'cherry']\n",
    "\n",
    "cars = ['Ford', 'BMW', 'Volvo']\n",
    "\n",
    "fruits.extend(cars)\n",
    "\n",
    "print(fruits)"
   ]
  },
  {
   "cell_type": "code",
   "execution_count": 23,
   "metadata": {},
   "outputs": [
    {
     "data": {
      "text/plain": [
       "[(1, 'a'), (1, 'b'), (3, 'a'), (3, 'b'), (5, 'a'), (5, 'b')]"
      ]
     },
     "execution_count": 23,
     "metadata": {},
     "output_type": "execute_result"
    }
   ],
   "source": [
    "A = [1,3,5]\n",
    "B = ['a', 'b']\n",
    "[(x, y) for x in A for y in B]"
   ]
  },
  {
   "cell_type": "code",
   "execution_count": 24,
   "metadata": {},
   "outputs": [
    {
     "data": {
      "text/plain": [
       "['a', 'b', 'c', 'd', 'e', 'f']"
      ]
     },
     "execution_count": 24,
     "metadata": {},
     "output_type": "execute_result"
    }
   ],
   "source": [
    "M = [['a', 'b', 'c'], ['d', 'e', 'f']]\n",
    "[x for row in M for x in row]"
   ]
  },
  {
   "cell_type": "code",
   "execution_count": 27,
   "metadata": {},
   "outputs": [
    {
     "data": {
      "text/plain": [
       "[[1, 4, 9], [16, 25, 36]]"
      ]
     },
     "execution_count": 27,
     "metadata": {},
     "output_type": "execute_result"
    }
   ],
   "source": [
    "M = [[1,2,3], [4,5,6]]\n",
    "[[x**2 for x in row]for row in M]"
   ]
  },
  {
   "cell_type": "code",
   "execution_count": 51,
   "metadata": {},
   "outputs": [
    {
     "data": {
      "text/plain": [
       "[0, 1, 0, 1, 1, 2, 2]"
      ]
     },
     "execution_count": 51,
     "metadata": {},
     "output_type": "execute_result"
    }
   ],
   "source": [
    "def dutch_flag_partition(pivot_index, A):\n",
    "    A_less = []\n",
    "    A_equal = []\n",
    "    A_greater = []\n",
    "    \n",
    "    for num in A:\n",
    "        if num < A[pivot_index]:\n",
    "            A_less.append(num)\n",
    "        elif num == A[pivot_index]:\n",
    "            A_equal.append(num)\n",
    "        else:\n",
    "            A_greater.append(num)\n",
    "   \n",
    "\n",
    "    A_equal.extend(A_greater)\n",
    "    A_less.extend(A_equal)\n",
    "\n",
    "    return A_less\n",
    "\n",
    "dutch_flag_partition(2, [0,1,2,0,2,1,1])\n",
    "\n",
    "# brute force solution timeO(n), spaceO(3n)\n"
   ]
  },
  {
   "cell_type": "code",
   "execution_count": 3,
   "metadata": {},
   "outputs": [
    {
     "data": {
      "text/plain": [
       "[1, 0, 0, 1, 1, 2, 2]"
      ]
     },
     "execution_count": 3,
     "metadata": {},
     "output_type": "execute_result"
    }
   ],
   "source": [
    "def dutch_flag_partition(pivot_index, A):\n",
    "    pivot = A[pivot_index]\n",
    "    for i in range(len(A)):\n",
    "        for j in range(i+1, len(A)):\n",
    "            if A[j] < pivot:\n",
    "                A[i], A[j] = A[j], A[i]\n",
    "                break\n",
    "                \n",
    "                \n",
    "                \n",
    "    for i in reversed(range(len(A))):\n",
    "        if A[i] < pivot:\n",
    "            break\n",
    "            \n",
    "        for j in reversed(range(i)):\n",
    "            if A[j] > pivot:\n",
    "                A[i], A[j] = A[j], A[i]\n",
    "                break\n",
    "                \n",
    "    return A\n",
    "                \n",
    "dutch_flag_partition(2, [0,1,2,0,2,1,1])\n",
    "# time O(n2) space O(1)\n",
    "                \n",
    "                "
   ]
  },
  {
   "cell_type": "code",
   "execution_count": 5,
   "metadata": {},
   "outputs": [
    {
     "data": {
      "text/plain": [
       "[0, 1, 0, 1, 1, 2, 2]"
      ]
     },
     "execution_count": 5,
     "metadata": {},
     "output_type": "execute_result"
    }
   ],
   "source": [
    "def dutch_flag_partition(pivot_index, A):\n",
    "    pivot = A[pivot_index]\n",
    "    smaller, equal, larger = 0, 0, len(A)\n",
    "    while equal < larger:\n",
    "        if A[equal] < pivot:\n",
    "            A[smaller], A[equal] = A[equal], A[smaller]\n",
    "            smaller, equal = smaller+1, equal+1\n",
    "            \n",
    "        elif A[equal] == pivot:\n",
    "            equal += 1\n",
    "            \n",
    "        else:\n",
    "            A[larger], A[equal] = A[equal], A[larger]\n",
    "            larger -= 1\n",
    "    return A\n",
    "\n",
    "dutch_flag_partition(2, [0,1,2,0,2,1,1])\n",
    "# time O(n) space O(1)"
   ]
  },
  {
   "cell_type": "code",
   "execution_count": 6,
   "metadata": {},
   "outputs": [
    {
     "data": {
      "text/plain": [
       "[1, 2, 8, 9, 4]"
      ]
     },
     "execution_count": 6,
     "metadata": {},
     "output_type": "execute_result"
    }
   ],
   "source": [
    "def plus_one(A):\n",
    "    A[-1] += 1\n",
    "    \n",
    "    for i in reversed(range(1, len(A))):\n",
    "        if A[i] != 10:\n",
    "            break\n",
    "        A[i] = 0\n",
    "        A[i-1] += 1\n",
    "        \n",
    "    if A[0] == 10:\n",
    "        A[0] = 0\n",
    "        A.append(0)\n",
    "        \n",
    "    return A\n",
    "\n",
    "plus_one([1,2,8,9,3])\n",
    "\n",
    "# time O(n), space O(1)"
   ]
  },
  {
   "cell_type": "code",
   "execution_count": 5,
   "metadata": {},
   "outputs": [
    {
     "data": {
      "text/plain": [
       "[5, 6, 0, 8, 8]"
      ]
     },
     "execution_count": 5,
     "metadata": {},
     "output_type": "execute_result"
    }
   ],
   "source": [
    "def multiply(num1, num2):\n",
    "    sign = -1 if (num1[0]<0 ^ num2[0]<0) else 1\n",
    "    num1[0], num2[0] = abs(num1[0]), abs(num2[0])\n",
    "    result = [0] * (len(num1)+len(num2))\n",
    "    \n",
    "    for i in reversed(range(len(num1))):\n",
    "        for j in reversed(range(len(num2))):\n",
    "            result[i+j+1] += num1[i] * num2[j]\n",
    "            result[i+j] += result[i+j+1] // 10\n",
    "            result[i+j+1] %= 10\n",
    "            \n",
    "    result = result[next((i for i, x in enumerate(result) if x!=0), len(result)):] or [0]\n",
    "            \n",
    "    return [sign*result[0]] + result[1:]\n",
    "\n",
    "multiply([1,2,3], [4,5,6])\n",
    "# time O(nm),space O(n+m)"
   ]
  },
  {
   "cell_type": "code",
   "execution_count": 7,
   "metadata": {},
   "outputs": [
    {
     "data": {
      "text/plain": [
       "[1, 2, 3, 4, 5, 6]"
      ]
     },
     "execution_count": 7,
     "metadata": {},
     "output_type": "execute_result"
    }
   ],
   "source": [
    "[1,2,3] + [4,5,6]"
   ]
  },
  {
   "cell_type": "code",
   "execution_count": 17,
   "metadata": {
    "scrolled": true
   },
   "outputs": [
    {
     "name": "stdout",
     "output_type": "stream",
     "text": [
      "[5, 6, 0, 0, 0, 8, 8]\n"
     ]
    }
   ],
   "source": [
    "result = [0, 0, 0, 5, 6, 0, 0, 0, 8, 8]\n",
    "result = result[next((i for i, x in enumerate(result) if x!=0), len(result)):]\n",
    "print(result)"
   ]
  },
  {
   "cell_type": "code",
   "execution_count": 37,
   "metadata": {},
   "outputs": [
    {
     "data": {
      "text/plain": [
       "2"
      ]
     },
     "execution_count": 37,
     "metadata": {},
     "output_type": "execute_result"
    }
   ],
   "source": [
    "next((i for i, x in enumerate([0, 0, 5, 6, 0, 8, 8]) if x!=0))"
   ]
  },
  {
   "cell_type": "code",
   "execution_count": 9,
   "metadata": {},
   "outputs": [
    {
     "data": {
      "text/plain": [
       "False"
      ]
     },
     "execution_count": 9,
     "metadata": {},
     "output_type": "execute_result"
    }
   ],
   "source": [
    "def can_reach_end(A):\n",
    "    furthest_reach_so_far, last_index = 0, len(A)-1\n",
    "    i = 0\n",
    "    while i <= furthest_reach_so_far and furthest_reach_so_far < last_index:\n",
    "        furthest_reach_so_far = max(furthest_reach_so_far, A[i] + i)\n",
    "        i += 1\n",
    "    return furthest_reach_so_far >= last_index\n",
    "\n",
    "can_reach_end([3,2,0,0,2,0,1])"
   ]
  },
  {
   "cell_type": "code",
   "execution_count": 8,
   "metadata": {},
   "outputs": [
    {
     "data": {
      "text/plain": [
       "True"
      ]
     },
     "execution_count": 8,
     "metadata": {},
     "output_type": "execute_result"
    }
   ],
   "source": [
    "can_reach_end([3,3,1,0,2,0,1])"
   ]
  },
  {
   "cell_type": "code",
   "execution_count": 11,
   "metadata": {},
   "outputs": [
    {
     "data": {
      "text/plain": [
       "[2, 3, 5, 7, 11, 13]"
      ]
     },
     "execution_count": 11,
     "metadata": {},
     "output_type": "execute_result"
    }
   ],
   "source": [
    "list(set([2,3,5,5,7,11,11,11,13]))"
   ]
  },
  {
   "cell_type": "code",
   "execution_count": 17,
   "metadata": {},
   "outputs": [
    {
     "data": {
      "text/plain": [
       "6"
      ]
     },
     "execution_count": 17,
     "metadata": {},
     "output_type": "execute_result"
    }
   ],
   "source": [
    "def delete_duplicates(A):\n",
    "    if not A:\n",
    "        return 0\n",
    "    \n",
    "    write_index = 1\n",
    "    for i in range(1, len(A)):\n",
    "        if A[write_index -1] != A[i]:\n",
    "            A[write_index] = A[i]\n",
    "            write_index += 1\n",
    "            \n",
    "    return write_index\n",
    "\n",
    "delete_duplicates([2,3,5,5,7,11,11,11,13])\n",
    "            "
   ]
  },
  {
   "cell_type": "code",
   "execution_count": null,
   "metadata": {},
   "outputs": [],
   "source": []
  }
 ],
 "metadata": {
  "kernelspec": {
   "display_name": "Python 3",
   "language": "python",
   "name": "python3"
  },
  "language_info": {
   "codemirror_mode": {
    "name": "ipython",
    "version": 3
   },
   "file_extension": ".py",
   "mimetype": "text/x-python",
   "name": "python",
   "nbconvert_exporter": "python",
   "pygments_lexer": "ipython3",
   "version": "3.7.5"
  }
 },
 "nbformat": 4,
 "nbformat_minor": 2
}
