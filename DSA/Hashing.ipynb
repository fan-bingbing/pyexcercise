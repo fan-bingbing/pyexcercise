{
 "cells": [
  {
   "cell_type": "code",
   "execution_count": 7,
   "metadata": {},
   "outputs": [
    {
     "data": {
      "text/plain": [
       "1116"
      ]
     },
     "execution_count": 7,
     "metadata": {},
     "output_type": "execute_result"
    }
   ],
   "source": [
    "sum(map(ord, 'hello world'))\n",
    "\n",
    "# a perfect hashing should assign a unique number for different strings\n",
    "# ord() <---> chr() take one character at a time, output ordinal value and verse vice\n",
    "\n",
    "\n"
   ]
  },
  {
   "cell_type": "code",
   "execution_count": 10,
   "metadata": {},
   "outputs": [
    {
     "name": "stdout",
     "output_type": "stream",
     "text": [
      "6736\n",
      "6616\n"
     ]
    }
   ],
   "source": [
    "def my_hash(s): # add a mulitplier to improve hashing\n",
    "    hv = 0\n",
    "    m = 1\n",
    "    for ch in s:\n",
    "        hv += m*ord(ch)\n",
    "        m += 1\n",
    "    return hv\n",
    "\n",
    "print(my_hash('hello world'))\n",
    "print(my_hash('world hello'))\n",
    "    "
   ]
  },
  {
   "cell_type": "code",
   "execution_count": 22,
   "metadata": {
    "scrolled": true
   },
   "outputs": [
    {
     "name": "stdout",
     "output_type": "stream",
     "text": [
      "None\n",
      "None\n",
      "[['Bob', '567-8888']]\n",
      "None\n",
      "None\n",
      "None\n",
      "[['Ankit', '293-8625']]\n",
      "None\n",
      "None\n",
      "[['Ming', '333-8233']]\n",
      "None\n",
      "[['Aditya', '777-8888']]\n",
      "[['Mike', '567-2188']]\n",
      "None\n",
      "None\n",
      "None\n",
      "None\n",
      "None\n",
      "None\n",
      "[['Alicia', '632-4123']]\n"
     ]
    }
   ],
   "source": [
    "class HashMap():\n",
    "    \n",
    "    def __init__(self):\n",
    "        self.size = 20\n",
    "        self.map = [None] * self.size\n",
    "        \n",
    "    def _get_hash(self, key): # sum up ascii value of key and mod by initial size of hashmap to get index(hash value)\n",
    "        hash = 0\n",
    "        m = 1\n",
    "        for ch in str(key):\n",
    "            hash += ord(ch)*m\n",
    "            m += 1\n",
    "        return hash % self.size # this function could be more complex to avoid collision as much as possible\n",
    "    \n",
    "    def add(self, key, value):\n",
    "        key_hash = self._get_hash(key)\n",
    "        key_value = [key, value]\n",
    "        \n",
    "        if self.map[key_hash] is None:\n",
    "            self.map[key_hash] = list([key_value]) # 2D list stored in map in case collision happens\n",
    "            return True\n",
    "        else:\n",
    "            for pair in self.map[key_hash]:\n",
    "                if pair[0] == key:\n",
    "                    pair[1] = value\n",
    "                    return True\n",
    "            self.map[key_hash].append(key_value)\n",
    "            return True\n",
    "        \n",
    "    def get(self, key):\n",
    "        key_hash = self._get_hash(key)\n",
    "        if self.map[key_hash] is not None:\n",
    "            for pair in self.map[key_hash]:\n",
    "                if pair[0] == key:\n",
    "                    return pair[1]\n",
    "        return None\n",
    "    \n",
    "    def delete(self, key):\n",
    "        key_hash = self._get_hash(key)\n",
    "        \n",
    "        if self.map[key_hash] is None:\n",
    "            return False\n",
    "        \n",
    "        for i in range(0, len(self.map[key_hash])):\n",
    "            if self.map[key_hash][i][0] == key:\n",
    "                self.map[key_hash].pop(i)\n",
    "                return True\n",
    "        return False\n",
    "    \n",
    "    def print(self):\n",
    "        for item in self.map:\n",
    "            print(str(item))\n",
    "            \n",
    "            \n",
    "h = HashMap()\n",
    "h.add('Bob', '567-8888')\n",
    "h.add('Ming', '293-6753')\n",
    "h.add('Ming', '333-8233')\n",
    "h.add('Ankit', '293-8625')\n",
    "h.add('Aditya', '852-6551')\n",
    "h.add('Alicia', '632-4123')\n",
    "h.add('Mike', '567-2188')\n",
    "h.add('Aditya', '777-8888')\n",
    "h.print()\n",
    "# h.delete('Bob')\n",
    "# h.print()\n",
    "# print('Ming: ' + h.get('Ming'))\n",
    "\n",
    "    \n",
    "    \n",
    "        \n",
    "        \n",
    "        \n",
    "    \n",
    "    \n",
    "        \n",
    "        "
   ]
  },
  {
   "cell_type": "code",
   "execution_count": 12,
   "metadata": {},
   "outputs": [
    {
     "data": {
      "text/plain": [
       "[[1, 2, 3]]"
      ]
     },
     "execution_count": 12,
     "metadata": {},
     "output_type": "execute_result"
    }
   ],
   "source": [
    "list([[1,2,3]])"
   ]
  }
 ],
 "metadata": {
  "kernelspec": {
   "display_name": "Python 3",
   "language": "python",
   "name": "python3"
  },
  "language_info": {
   "codemirror_mode": {
    "name": "ipython",
    "version": 3
   },
   "file_extension": ".py",
   "mimetype": "text/x-python",
   "name": "python",
   "nbconvert_exporter": "python",
   "pygments_lexer": "ipython3",
   "version": "3.7.5"
  }
 },
 "nbformat": 4,
 "nbformat_minor": 2
}
