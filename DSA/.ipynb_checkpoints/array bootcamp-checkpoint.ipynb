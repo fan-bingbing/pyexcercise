{
 "cells": [
  {
   "cell_type": "code",
   "execution_count": 16,
   "metadata": {},
   "outputs": [
    {
     "name": "stdout",
     "output_type": "stream",
     "text": [
      "[2, 54, 12, 13, 5, 67, 7]\n"
     ]
    }
   ],
   "source": [
    "def even_odd(A):\n",
    "    next_even, next_odd = 0, len(A)-1\n",
    "    while next_even < next_odd:\n",
    "        if A[next_even] % 2 == 0:\n",
    "            next_even += 1\n",
    "        else:\n",
    "            A[next_even], A[next_odd] = A[next_odd], A[next_even]\n",
    "            next_odd -= 1\n",
    "    return A\n",
    "print(even_odd([2,7,5,12,13,54,67]))\n",
    "# time O(n), space O(1)"
   ]
  },
  {
   "cell_type": "code",
   "execution_count": 17,
   "metadata": {},
   "outputs": [
    {
     "name": "stdout",
     "output_type": "stream",
     "text": [
      "[2, 12, 54, 7, 5, 13, 67]\n"
     ]
    }
   ],
   "source": [
    "def even_odd_1(A):\n",
    "    B = list()\n",
    "    C = list()\n",
    "   \n",
    "    for i in range(0, len(A)):\n",
    "        if A[i] % 2 == 0:\n",
    "            B.append(A[i])\n",
    "        else:\n",
    "            C.append(A[i])\n",
    "    B.extend(C)\n",
    "    return B\n",
    "# brute force solution  timeO(n), spaceO(2n)\n",
    "print(even_odd_1([2,7,5,12,13,54,67]))"
   ]
  },
  {
   "cell_type": "code",
   "execution_count": 13,
   "metadata": {},
   "outputs": [
    {
     "name": "stdout",
     "output_type": "stream",
     "text": [
      "['apple', 'banana', 'cherry', 'Ford', 'BMW', 'Volvo']\n"
     ]
    }
   ],
   "source": [
    "fruits = ['apple', 'banana', 'cherry']\n",
    "\n",
    "cars = ['Ford', 'BMW', 'Volvo']\n",
    "\n",
    "fruits.extend(cars)\n",
    "\n",
    "print(fruits)"
   ]
  },
  {
   "cell_type": "code",
   "execution_count": 23,
   "metadata": {},
   "outputs": [
    {
     "data": {
      "text/plain": [
       "[(1, 'a'), (1, 'b'), (3, 'a'), (3, 'b'), (5, 'a'), (5, 'b')]"
      ]
     },
     "execution_count": 23,
     "metadata": {},
     "output_type": "execute_result"
    }
   ],
   "source": [
    "A = [1,3,5]\n",
    "B = ['a', 'b']\n",
    "[(x, y) for x in A for y in B]"
   ]
  },
  {
   "cell_type": "code",
   "execution_count": 24,
   "metadata": {},
   "outputs": [
    {
     "data": {
      "text/plain": [
       "['a', 'b', 'c', 'd', 'e', 'f']"
      ]
     },
     "execution_count": 24,
     "metadata": {},
     "output_type": "execute_result"
    }
   ],
   "source": [
    "M = [['a', 'b', 'c'], ['d', 'e', 'f']]\n",
    "[x for row in M for x in row]"
   ]
  },
  {
   "cell_type": "code",
   "execution_count": 27,
   "metadata": {},
   "outputs": [
    {
     "data": {
      "text/plain": [
       "[[1, 4, 9], [16, 25, 36]]"
      ]
     },
     "execution_count": 27,
     "metadata": {},
     "output_type": "execute_result"
    }
   ],
   "source": [
    "M = [[1,2,3], [4,5,6]]\n",
    "[[x**2 for x in row]for row in M]"
   ]
  },
  {
   "cell_type": "code",
   "execution_count": 51,
   "metadata": {},
   "outputs": [
    {
     "data": {
      "text/plain": [
       "[0, 1, 0, 1, 1, 2, 2]"
      ]
     },
     "execution_count": 51,
     "metadata": {},
     "output_type": "execute_result"
    }
   ],
   "source": [
    "def dutch_flag_partition(pivot_index, A):\n",
    "    A_less = []\n",
    "    A_equal = []\n",
    "    A_greater = []\n",
    "    \n",
    "    for num in A:\n",
    "        if num < A[pivot_index]:\n",
    "            A_less.append(num)\n",
    "        elif num == A[pivot_index]:\n",
    "            A_equal.append(num)\n",
    "        else:\n",
    "            A_greater.append(num)\n",
    "   \n",
    "\n",
    "    A_equal.extend(A_greater)\n",
    "    A_less.extend(A_equal)\n",
    "\n",
    "    return A_less\n",
    "\n",
    "dutch_flag_partition(2, [0,1,2,0,2,1,1])\n",
    "\n",
    "# brute force solution timeO(n), spaceO(3n)\n"
   ]
  },
  {
   "cell_type": "code",
   "execution_count": 3,
   "metadata": {},
   "outputs": [
    {
     "data": {
      "text/plain": [
       "[1, 0, 0, 1, 1, 2, 2]"
      ]
     },
     "execution_count": 3,
     "metadata": {},
     "output_type": "execute_result"
    }
   ],
   "source": [
    "def dutch_flag_partition(pivot_index, A):\n",
    "    pivot = A[pivot_index]\n",
    "    for i in range(len(A)):\n",
    "        for j in range(i+1, len(A)):\n",
    "            if A[j] < pivot:\n",
    "                A[i], A[j] = A[j], A[i]\n",
    "                break\n",
    "                \n",
    "                \n",
    "                \n",
    "    for i in reversed(range(len(A))):\n",
    "        if A[i] < pivot:\n",
    "            break\n",
    "            \n",
    "        for j in reversed(range(i)):\n",
    "            if A[j] > pivot:\n",
    "                A[i], A[j] = A[j], A[i]\n",
    "                break\n",
    "                \n",
    "    return A\n",
    "                \n",
    "dutch_flag_partition(2, [0,1,2,0,2,1,1])\n",
    "# time O(n2) space O(1)\n",
    "                \n",
    "                "
   ]
  },
  {
   "cell_type": "code",
   "execution_count": null,
   "metadata": {},
   "outputs": [],
   "source": [
    "def dutch_flag_partition(pivot_index, A):\n",
    "    pivot = A[pivot_index]\n",
    "    smaller, equal, larger = 0, 0, len(A)\n",
    "    while equal < larger:\n",
    "        if A[equal] < pivot:\n",
    "            A[smaller], A[equal] = A[equal], A[smaller]\n",
    "            smaller, equal = smaller+1, equal+1\n",
    "            \n",
    "        elif A[equal"
   ]
  }
 ],
 "metadata": {
  "kernelspec": {
   "display_name": "Python 3",
   "language": "python",
   "name": "python3"
  },
  "language_info": {
   "codemirror_mode": {
    "name": "ipython",
    "version": 3
   },
   "file_extension": ".py",
   "mimetype": "text/x-python",
   "name": "python",
   "nbconvert_exporter": "python",
   "pygments_lexer": "ipython3",
   "version": "3.7.5"
  }
 },
 "nbformat": 4,
 "nbformat_minor": 2
}
