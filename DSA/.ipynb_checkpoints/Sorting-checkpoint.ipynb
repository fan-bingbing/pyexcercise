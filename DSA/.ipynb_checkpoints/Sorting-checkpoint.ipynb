{
 "cells": [
  {
   "cell_type": "code",
   "execution_count": 2,
   "metadata": {},
   "outputs": [
    {
     "data": {
      "text/plain": [
       "[1, 3, 3, 4, 6, 8, 9]"
      ]
     },
     "execution_count": 2,
     "metadata": {},
     "output_type": "execute_result"
    }
   ],
   "source": [
    "def bubble_sort(A):\n",
    "    for i in range(len(A)-1):\n",
    "        for j in range(len(A)-1):\n",
    "            if A[j]>A[j+1]:\n",
    "                A[j], A[j+1] = A[j+1], A[j]\n",
    "            \n",
    "    return A\n",
    "# time O(n2) space O(1)\n",
    "bubble_sort([3,6,1,8,9,4,3])\n"
   ]
  },
  {
   "cell_type": "markdown",
   "metadata": {},
   "source": [
    "def insertion_sort(A):\n",
    "    for index in range(1, len(A)):\n",
    "        search_index = index\n",
    "        insert_value = A[index]\n",
    "        while search_index>0 and A[search_index-1]>insert_value:\n",
    "            A[search_index] = A[search_index-1]\n",
    "            search_index -= 1\n",
    "            A[search_index] = insert_value\n",
    "    return A\n",
    "    \n",
    "# time worstO(n2) bestO(n)\n",
    "\n",
    "insertion_sort([3,6,1,8,9,4,3])\n",
    "            "
   ]
  },
  {
   "cell_type": "code",
   "execution_count": 1,
   "metadata": {},
   "outputs": [
    {
     "data": {
      "text/plain": [
       "[1, 3, 3, 4, 6, 8, 9]"
      ]
     },
     "execution_count": 1,
     "metadata": {},
     "output_type": "execute_result"
    }
   ],
   "source": [
    "def selection_sort(A):\n",
    "    for i in range(len(A)):\n",
    "        for j in range(i+1, len(A)):\n",
    "            if A[i]>A[j]:\n",
    "                A[i], A[j] = A[j], A[i]\n",
    "    return A\n",
    "\n",
    "selection_sort([3,6,1,8,9,4,3])\n",
    "\n",
    "# time O(n2)"
   ]
  },
  {
   "cell_type": "code",
   "execution_count": null,
   "metadata": {},
   "outputs": [],
   "source": [
    "def quick_sort(A):\n",
    "    quick_sort2(A, 0, len(A)-1)\n",
    "\n",
    "def quick_sort2(A, low, hi):\n",
    "    if low < hi:\n",
    "        p = partition(A, low, hi)\n",
    "        quick_sort2(A, low, p-1)\n",
    "        quick_sort2(A, p+1, hi)\n",
    "        \n",
    "def get_pivot(A, low, hi):\n",
    "    mid = (hi + low) // 2\n",
    "    pivot = hi\n",
    "    if A[low] < A[mid]:\n",
    "        if A[mid] < A[hi]:\n",
    "            pivot = mid\n",
    "    elif A[low] < A [hi]:\n",
    "        pivot = low\n",
    "    \n",
    "    return pivot\n",
    "\n"
   ]
  }
 ],
 "metadata": {
  "kernelspec": {
   "display_name": "Python 3",
   "language": "python",
   "name": "python3"
  },
  "language_info": {
   "codemirror_mode": {
    "name": "ipython",
    "version": 3
   },
   "file_extension": ".py",
   "mimetype": "text/x-python",
   "name": "python",
   "nbconvert_exporter": "python",
   "pygments_lexer": "ipython3",
   "version": "3.7.5"
  }
 },
 "nbformat": 4,
 "nbformat_minor": 2
}
