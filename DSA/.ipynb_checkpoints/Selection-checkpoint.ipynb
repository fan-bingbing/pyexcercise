{
 "cells": [
  {
   "cell_type": "code",
   "execution_count": 92,
   "metadata": {},
   "outputs": [
    {
     "name": "stdout",
     "output_type": "stream",
     "text": [
      "[93, 15, 60, 20, 78, 83, 94, 19, 29, 83]\n",
      "[15, 19, 20, 29, 60, 78, 83, 83, 93, 94]\n",
      "60\n"
     ]
    }
   ],
   "source": [
    "import random\n",
    "\n",
    "def bubble_sort(A):\n",
    "    for i in range(len(A)-1):\n",
    "        for j in range(len(A)-1):\n",
    "            if A[j]>A[j+1]:\n",
    "                A[j], A[j+1] = A[j+1], A[j]\n",
    "            \n",
    "    return A\n",
    "\n",
    "\n",
    "\n",
    "def quick_select(A, low, hi, k):\n",
    "    if low == hi:\n",
    "        return A[low]\n",
    "    \n",
    "    split = partition_1(A, low, hi)\n",
    "    length = split - low + 1\n",
    "    \n",
    "    if length == k:\n",
    "        return A[split]\n",
    "    elif k < length:\n",
    "        return quick_select(A, low, split-1, k)\n",
    "    else:\n",
    "        return quick_select(A, split+1, hi, k-length)\n",
    "    \n",
    "def get_pivot(A, low, hi): # choose median value of low mid hi values as pivot\n",
    "    mid = (hi + low) // 2\n",
    "    pivot = hi\n",
    "    if A[low] < A[mid]:\n",
    "        if A[mid] < A[hi]:\n",
    "            pivot = mid\n",
    "    elif A[low] < A [hi]:\n",
    "        pivot = low\n",
    "    \n",
    "    return pivot\n",
    "    \n",
    "def partition_1(A, low, hi): # partition_1 is better than partition_2, because it choose median value as pivot.\n",
    "    pivotIndex = get_pivot(A, low, hi) # make sure to get time O(nlogn)\n",
    "    pivotValue = A[pivotIndex]\n",
    "    A[pivotIndex], A[low] = A[low], A[pivotIndex]\n",
    "    border = low\n",
    "    \n",
    "    for i in range(low, hi+1): # use one pointer: border, and a for loop to traverse whole list\n",
    "        if A[i] < pivotValue:\n",
    "            border += 1\n",
    "            A[i], A[border] = A[border], A[i]\n",
    "    A[low], A[border] = A[border], A[low]\n",
    "    \n",
    "    return border\n",
    "        \n",
    "def partition_2(A, low, hi):# choose first element as pivot gives worse case time O(n2) if input array is sorted\n",
    "    pivotvalue = A[low]\n",
    "    LM = low + 1\n",
    "    RM = hi\n",
    "    \n",
    "    while True:\n",
    "        while LM < hi and A[LM] < pivotvalue:\n",
    "            LM += 1\n",
    "        while RM > low and A[RM] > pivotvalue:\n",
    "            RM -= 1\n",
    "        if LM >= RM:\n",
    "            break\n",
    "        else:\n",
    "            A[LM], A[RM] = A[RM], A[LM]\n",
    "    \n",
    "    A[low], A[RM] = A[RM], A[low]\n",
    "    \n",
    "#     print(A)\n",
    "#     print(RM)\n",
    "    \n",
    "    return RM\n",
    "\n",
    "def main():\n",
    "    list = []\n",
    "    for x in range(10):\n",
    "        list.append(random.randint(1,100))\n",
    "    \n",
    "    print(list)\n",
    "    print(bubble_sort(list))\n",
    "    print(quick_select(list, 0, len(list)-1, 5))\n",
    "    \n",
    "if __name__ == \"__main__\":\n",
    "    main()\n",
    "\n",
    "\n",
    "        "
   ]
  },
  {
   "cell_type": "code",
   "execution_count": 102,
   "metadata": {
    "scrolled": true
   },
   "outputs": [
    {
     "name": "stdout",
     "output_type": "stream",
     "text": [
      "[74, 44, 68, 37, 40, 93, 24, 45, 69, 92, 43, 61, 81, 75, 97, 45, 67, 18, 4, 5, 99]\n",
      "[4, 5, 18, 24, 37, 40, 43, 44, 45, 45, 61, 67, 68, 69, 74, 75, 81, 92, 93, 97, 99]\n",
      "[[[4, 5, 18, 24, 37]], [[40, 43, 44, 45, 45]], [[61, 67, 68, 69, 74]], [[75, 81, 92, 93, 97]], [[99]]]\n",
      "[61, 67, 68, 69, 74]\n"
     ]
    }
   ],
   "source": [
    "import random\n",
    "\n",
    "def bubble_sort(A):\n",
    "    for i in range(len(A)-1):\n",
    "        for j in range(len(A)-1):\n",
    "            if A[j]>A[j+1]:\n",
    "                A[j], A[j+1] = A[j+1], A[j]\n",
    "            \n",
    "    return A\n",
    "\n",
    "def median_of_medians(A):\n",
    "    sub_A = [[A[j:j+5]] for j in range(0, len(A), 5)]\n",
    "    print(sub_A)\n",
    "    medians = []\n",
    "    for item in sub_A:\n",
    "        medians.append(sorted(item)[len(item)//2])\n",
    "        \n",
    "    if len(medians) <= 5:\n",
    "        return sorted(medians)[len(medians)//2]\n",
    "    else:\n",
    "        return median_of_medians(medians)\n",
    "\n",
    "\n",
    "\n",
    "\n",
    "def main():\n",
    "    list = []\n",
    "    for x in range(21):\n",
    "        list.append(random.randint(1,100))\n",
    "        \n",
    "    \n",
    "    \n",
    "    print(list)\n",
    "    print(bubble_sort(list))\n",
    "    \n",
    "    print(median_of_medians(list))\n",
    "    \n",
    "if __name__ == \"__main__\":\n",
    "    main()"
   ]
  },
  {
   "cell_type": "code",
   "execution_count": 107,
   "metadata": {},
   "outputs": [
    {
     "name": "stdout",
     "output_type": "stream",
     "text": [
      "[[[74, 44, 68, 37, 40]], [[93, 24, 45, 69, 92]], [[43, 61, 81, 75, 97]], [[45, 67, 18, 4, 5]], [[99]]]\n",
      "[[74, 44, 68, 37, 40], [93, 24, 45, 69, 92], [43, 61, 81, 75, 97], [45, 67, 18, 4, 5], [99]]\n"
     ]
    }
   ],
   "source": [
    "A = [74, 44, 68, 37, 40, 93, 24, 45, 69, 92, 43, 61, 81, 75, 97, 45, 67, 18, 4, 5, 99]\n",
    "\n",
    "sub_A = [[A[j:j+5]] for j in range(0, len(A), 5)]\n",
    "print(sub_A)\n",
    "\n",
    "medians = []\n",
    "for item in sub_A:\n",
    "    medians.append((sorted(item)[len(item)//2]))\n",
    "    \n",
    "print(medians)"
   ]
  }
 ],
 "metadata": {
  "kernelspec": {
   "display_name": "Python 3",
   "language": "python",
   "name": "python3"
  },
  "language_info": {
   "codemirror_mode": {
    "name": "ipython",
    "version": 3
   },
   "file_extension": ".py",
   "mimetype": "text/x-python",
   "name": "python",
   "nbconvert_exporter": "python",
   "pygments_lexer": "ipython3",
   "version": "3.7.5"
  }
 },
 "nbformat": 4,
 "nbformat_minor": 2
}
