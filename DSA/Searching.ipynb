{
 "cells": [
  {
   "cell_type": "code",
   "execution_count": 4,
   "metadata": {},
   "outputs": [
    {
     "data": {
      "text/plain": [
       "3"
      ]
     },
     "execution_count": 4,
     "metadata": {},
     "output_type": "execute_result"
    }
   ],
   "source": [
    "def unordered_search(A, term):\n",
    "    for i in range(len(A)):\n",
    "        if term == A[i]:\n",
    "            return i\n",
    "    return None\n",
    "\n",
    "unordered_search([3,6,1,99,13,4,7,9,8,9,4,3,12,15,33,6], 99)"
   ]
  },
  {
   "cell_type": "code",
   "execution_count": 1,
   "metadata": {},
   "outputs": [
    {
     "data": {
      "text/plain": [
       "15"
      ]
     },
     "execution_count": 1,
     "metadata": {},
     "output_type": "execute_result"
    }
   ],
   "source": [
    "def ordered_search(A, term):\n",
    "    for i in range(len(A)):\n",
    "        if term == A[i]:\n",
    "            return i\n",
    "        elif A[i] > term:\n",
    "            return None\n",
    "    return None\n",
    "\n",
    "ordered_search([1, 3, 3, 4, 4, 6, 6, 7, 8, 9, 9, 12, 13, 15, 33, 99], 99)\n",
    "            \n",
    "        "
   ]
  },
  {
   "cell_type": "code",
   "execution_count": 15,
   "metadata": {},
   "outputs": [
    {
     "data": {
      "text/plain": [
       "12"
      ]
     },
     "execution_count": 15,
     "metadata": {},
     "output_type": "execute_result"
    }
   ],
   "source": [
    "def iterating_binary_search(A, term):\n",
    "    low = 0\n",
    "    high = len(A)-1\n",
    "    \n",
    "    while low <= high: # has to be <=, not <\n",
    "        mid = (low + high) // 2\n",
    "        if A[mid] == term:\n",
    "            return mid\n",
    "        elif A[mid] > term:\n",
    "            high = mid-1\n",
    "        else:\n",
    "            low = mid+1\n",
    "            \n",
    "    return None\n",
    "\n",
    "iterating_binary_search([1, 3, 3, 4, 4, 6, 6, 7, 8, 9, 9, 12, 13, 15, 33, 99], 13)\n",
    "\n",
    "# time O(log(n))\n",
    "# A has to be a sorted array\n",
    "        "
   ]
  },
  {
   "cell_type": "code",
   "execution_count": 14,
   "metadata": {},
   "outputs": [
    {
     "data": {
      "text/plain": [
       "12"
      ]
     },
     "execution_count": 14,
     "metadata": {},
     "output_type": "execute_result"
    }
   ],
   "source": [
    "def recursive_binary_search(A, term, low, high):# a recursive call works similar to a while loop\n",
    "    if low > high: # break point\n",
    "        return None \n",
    "    else:\n",
    "        mid = (low + high) // 2\n",
    "        if A[mid] == term:\n",
    "            return mid\n",
    "        elif A[mid] > term:\n",
    "            return recursive_binary_search(A, term, low, mid-1)\n",
    "        else:\n",
    "            return recursive_binary_search(A, term, mid+1, high)\n",
    "        \n",
    "recursive_binary_search([1, 3, 3, 4, 4, 6, 6, 7, 8, 9, 9, 12, 13, 15, 33, 99], 13, low=0, high=15)\n",
    "           \n",
    "# time O(log(n))\n",
    "# A has to be a sorted array\n",
    "    "
   ]
  },
  {
   "cell_type": "code",
   "execution_count": 13,
   "metadata": {},
   "outputs": [
    {
     "data": {
      "text/plain": [
       "12"
      ]
     },
     "execution_count": 13,
     "metadata": {},
     "output_type": "execute_result"
    }
   ],
   "source": [
    "def interpolation_search(A, term):\n",
    "    low = 0\n",
    "    high = len(A)-1\n",
    "    while low <= high and term >= A[low] and term <= A[high]:\n",
    "        pos = int(low + ((high-low)/(A[high]-A[low]))*(term-A[low]))\n",
    "        if A[pos] == term:\n",
    "            return pos\n",
    "        elif A[pos] < term:\n",
    "            low = pos + 1\n",
    "        else:\n",
    "            high = pos - 1\n",
    "    return None\n",
    "\n",
    "interpolation_search([1, 3, 3, 4, 4, 6, 6, 7, 8, 9, 9, 12, 13, 15, 33, 99], 13)\n",
    "            \n",
    "# time O(loglog(n))\n",
    "# A has to be a sorted uniformed distributed array\n"
   ]
  },
  {
   "cell_type": "code",
   "execution_count": 12,
   "metadata": {},
   "outputs": [
    {
     "data": {
      "text/plain": [
       "12"
      ]
     },
     "execution_count": 12,
     "metadata": {},
     "output_type": "execute_result"
    }
   ],
   "source": [
    "def recursive_interpolation_search(A, term, low, high): # a recursive call works similar to a while loop\n",
    "    if low <= high and term >= A[low] and term <= A[high]:\n",
    "        pos = int(low + ((high-low)/(A[high]-A[low]))*(term-A[low]))\n",
    "        \n",
    "        if A[pos] == term:\n",
    "            return pos\n",
    "        elif A[pos] > term:\n",
    "            return recursive_interpolation_search(A, term, low, pos-1)\n",
    "        else:\n",
    "            return recursive_interpolation_search(A, term, pos+1, high)\n",
    "    else:\n",
    "        return None # break point\n",
    "        \n",
    "recursive_interpolation_search([1, 3, 3, 4, 4, 6, 6, 7, 8, 9, 9, 12, 13, 15, 33, 99], 13, low=0, high=15)\n",
    "\n",
    "# time O(loglog(n))\n",
    "# A has to be a sorted uniformed distributed array\n"
   ]
  }
 ],
 "metadata": {
  "kernelspec": {
   "display_name": "Python 3",
   "language": "python",
   "name": "python3"
  },
  "language_info": {
   "codemirror_mode": {
    "name": "ipython",
    "version": 3
   },
   "file_extension": ".py",
   "mimetype": "text/x-python",
   "name": "python",
   "nbconvert_exporter": "python",
   "pygments_lexer": "ipython3",
   "version": "3.7.5"
  }
 },
 "nbformat": 4,
 "nbformat_minor": 2
}
