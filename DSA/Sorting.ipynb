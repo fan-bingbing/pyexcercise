{
 "cells": [
  {
   "cell_type": "code",
   "execution_count": 19,
   "metadata": {},
   "outputs": [
    {
     "data": {
      "text/plain": [
       "[1, 3, 3, 4, 4, 6, 6, 7, 8, 9, 9, 12, 13, 15, 33, 99]"
      ]
     },
     "execution_count": 19,
     "metadata": {},
     "output_type": "execute_result"
    }
   ],
   "source": [
    "def bubble_sort(A):\n",
    "    for _ in range(len(A)-1):\n",
    "        for j in range(len(A)-1):\n",
    "            if A[j]>A[j+1]:\n",
    "                A[j], A[j+1] = A[j+1], A[j]\n",
    "            \n",
    "    return A\n",
    "# time O(n2) space O(1)\n",
    "bubble_sort([3,6,1,99,13,4,7,9,8,9,4,3,12,15,33,6])\n"
   ]
  },
  {
   "cell_type": "code",
   "execution_count": 25,
   "metadata": {},
   "outputs": [
    {
     "data": {
      "text/plain": [
       "[3, 1, 3, 4, 4, 6, 6, 7, 8, 9, 9, 12, 13, 15, 33, 99]"
      ]
     },
     "execution_count": 25,
     "metadata": {},
     "output_type": "execute_result"
    }
   ],
   "source": [
    "def insertion_sort_1(A):\n",
    "    for index in range(1, len(A)):\n",
    "        search_index = index\n",
    "        insert_value = A[index]\n",
    "        while search_index>0 and A[search_index-1]>insert_value:\n",
    "            A[search_index] = A[search_index-1]\n",
    "            search_index -= 1\n",
    "            A[search_index] = insert_value\n",
    "    return A\n",
    "    \n",
    "def insertion_sort_2(A):\n",
    "    for i in range(1, len(A)):\n",
    "        for j in range(i-1, 0, -1):\n",
    "            if A[j]>A[j+1]:\n",
    "                A[j], A[j+1] = A[j+1], A[j]\n",
    "            else:\n",
    "                break\n",
    "    return A\n",
    "                \n",
    "#time worstO(n2) bestO(n)\n",
    "\n",
    "insertion_sort_1([3,6,1,99,13,4,7,9,8,9,4,3,12,15,33,6])\n",
    "insertion_sort_2([3,6,1,99,13,4,7,9,8,9,4,3,12,15,33,6])\n",
    "\n",
    "            "
   ]
  },
  {
   "cell_type": "code",
   "execution_count": 6,
   "metadata": {
    "scrolled": true
   },
   "outputs": [
    {
     "data": {
      "text/plain": [
       "[1, 3, 3, 4, 4, 6, 6, 7, 8, 9, 9, 12, 13, 15, 33, 99]"
      ]
     },
     "execution_count": 6,
     "metadata": {},
     "output_type": "execute_result"
    }
   ],
   "source": [
    "def selection_sort(A):\n",
    "    for i in range(len(A)):\n",
    "        for j in range(i+1, len(A)):\n",
    "            if A[i]>A[j]:\n",
    "                A[i], A[j] = A[j], A[i]\n",
    "    return A\n",
    "\n",
    "selection_sort([3,6,1,99,13,4,7,9,8,9,4,3,12,15,33,6])\n",
    "\n",
    "# time O(n2)"
   ]
  },
  {
   "cell_type": "code",
   "execution_count": 52,
   "metadata": {
    "scrolled": true
   },
   "outputs": [
    {
     "data": {
      "text/plain": [
       "[1, 3, 3, 4, 4, 6, 6, 7, 8, 9, 9, 12, 13, 15, 33, 99]"
      ]
     },
     "execution_count": 52,
     "metadata": {},
     "output_type": "execute_result"
    }
   ],
   "source": [
    "def quick_sort(A):\n",
    "    quick_sort2(A, 0, len(A)-1)\n",
    "\n",
    "    return A\n",
    "\n",
    "def quick_sort2(A, low, hi):\n",
    "    if low < hi:\n",
    "        p = partition(A, low, hi)\n",
    "        quick_sort2(A, low, p-1)\n",
    "        quick_sort2(A, p+1, hi)\n",
    "        \n",
    "def get_pivot(A, low, hi): # choose median value of low mid hi values as pivot\n",
    "    mid = (hi + low) // 2\n",
    "    pivot = hi\n",
    "    if A[low] < A[mid]:\n",
    "        if A[mid] < A[hi]:\n",
    "            pivot = mid\n",
    "    elif A[low] < A [hi]:\n",
    "        pivot = low\n",
    "    \n",
    "    return pivot\n",
    "\n",
    "def partition(A, low, hi):\n",
    "    pivotIndex = get_pivot(A, low, hi)\n",
    "    pivotValue = A[pivotIndex]\n",
    "    A[pivotIndex], A[low] = A[low], A[pivotIndex]\n",
    "    border = low\n",
    "    \n",
    "    for i in range(low, hi+1):\n",
    "        if A[i] < pivotValue:\n",
    "            border += 1\n",
    "            A[i], A[border] = A[border], A[i]\n",
    "    A[low], A[border] = A[border], A[low]\n",
    "    \n",
    "    return border\n",
    "\n",
    "quick_sort([3,6,1,99,13,4,7,9,8,9,4,3,12,15,33,6])\n",
    "\n",
    "# time O(nlogn) if randomly choose pivot\n",
    "\n"
   ]
  },
  {
   "cell_type": "code",
   "execution_count": 60,
   "metadata": {
    "scrolled": false
   },
   "outputs": [
    {
     "name": "stdout",
     "output_type": "stream",
     "text": [
      "[18, 15, 8, 49, 32, 48, 26, 38, 27, 48, 48]\n"
     ]
    },
    {
     "data": {
      "text/plain": [
       "[8, 15, 18, 26, 27, 32, 38, 48, 48, 48, 49]"
      ]
     },
     "execution_count": 60,
     "metadata": {},
     "output_type": "execute_result"
    }
   ],
   "source": [
    "def create_array(size=11, max=50):\n",
    "    from random import randint\n",
    "    return [randint(0, max) for _ in range(size)]\n",
    "\n",
    "# create_array()\n",
    "\n",
    "def merge(a, b):\n",
    "    c = []\n",
    "    a_idx, b_idx = 0, 0\n",
    "    while a_idx<len(a) and b_idx<len(b):\n",
    "        if a[a_idx]<b[b_idx]:\n",
    "            c.append(a[a_idx])\n",
    "            a_idx += 1\n",
    "        else:\n",
    "            c.append(b[b_idx])\n",
    "            b_idx += 1\n",
    "    if a_idx==len(a):\n",
    "        c.extend(b[b_idx:])\n",
    "    else:\n",
    "        c.extend(a[a_idx:])\n",
    "    return c\n",
    "        \n",
    "# a = [1,10,45]\n",
    "# b = [2,4,6]\n",
    "# merge(a, b)\n",
    "def merge_sort(a):\n",
    "    if len(a)<=1:\n",
    "        return a\n",
    "    left, right = merge_sort(a[:len(a)//2]), merge_sort(a[len(a)//2:])\n",
    "    return merge(left, right)\n",
    "\n",
    "test_arr = create_array()\n",
    "print(test_arr)\n",
    "merge_sort(test_arr)\n",
    "\n",
    "time complexity O(nlogn), space complexity O(n)\n"
   ]
  },
  {
   "cell_type": "code",
   "execution_count": 62,
   "metadata": {},
   "outputs": [
    {
     "name": "stdout",
     "output_type": "stream",
     "text": [
      "[33, 26, 42, 41, 36, 46, 12, 1, 12, 16, 14]\n"
     ]
    },
    {
     "data": {
      "text/plain": [
       "[1, 12, 12, 14, 16, 26, 33, 36, 41, 42, 46]"
      ]
     },
     "execution_count": 62,
     "metadata": {},
     "output_type": "execute_result"
    }
   ],
   "source": [
    "from random import randint\n",
    "\n",
    "def create_array(size=11, max=50):\n",
    "    return [randint(0, max) for _ in range(size)]\n",
    "\n",
    "def quick_sort(a):\n",
    "    if len(a)<=1:\n",
    "        return a\n",
    "    smaller, equal, larger = [], [], []\n",
    "    pivot = a[randint(0, len(a)-1)] # \n",
    "    \n",
    "    for x in a:\n",
    "        if x<pivot: smaller.append(x)\n",
    "        elif x==pivot: equal.append(x)\n",
    "        else: larger.append(x)\n",
    "        \n",
    "    return quick_sort(smaller) + equal + quick_sort(larger)\n",
    "    \n",
    "\n",
    "test_arr = create_array()\n",
    "print(test_arr)\n",
    "quick_sort(test_arr)"
   ]
  }
 ],
 "metadata": {
  "kernelspec": {
   "display_name": "Python 3",
   "language": "python",
   "name": "python3"
  },
  "language_info": {
   "codemirror_mode": {
    "name": "ipython",
    "version": 3
   },
   "file_extension": ".py",
   "mimetype": "text/x-python",
   "name": "python",
   "nbconvert_exporter": "python",
   "pygments_lexer": "ipython3",
   "version": "3.7.5"
  }
 },
 "nbformat": 4,
 "nbformat_minor": 2
}
