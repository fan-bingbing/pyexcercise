{
 "cells": [
  {
   "cell_type": "code",
   "execution_count": 1,
   "metadata": {
    "scrolled": false
   },
   "outputs": [
    {
     "name": "stdout",
     "output_type": "stream",
     "text": [
      "cool\n",
      "cool\n",
      "cool\n",
      "cool\n",
      "cool\n",
      "cool\n",
      "cool\n",
      "cool\n",
      "cool\n",
      "cool\n",
      "cool\n",
      "cool\n"
     ]
    }
   ],
   "source": [
    "for _ in \"hello world!\":\n",
    "    print(\"cool\")"
   ]
  },
  {
   "cell_type": "code",
   "execution_count": 4,
   "metadata": {},
   "outputs": [
    {
     "name": "stdout",
     "output_type": "stream",
     "text": [
      "(1, 2)\n",
      "(3, 4)\n",
      "(5, 6)\n",
      "(7, 8)\n",
      "1\n",
      "3\n",
      "5\n",
      "7\n"
     ]
    }
   ],
   "source": [
    "mylist = [(1,2), (3,4), (5,6), (7,8)]\n",
    "for item in mylist:\n",
    "    print(item)\n",
    "for x, y in mylist:\n",
    "    print(x)\n",
    "#     print(y)\n",
    "# list of tuple unpacking"
   ]
  },
  {
   "cell_type": "code",
   "execution_count": 9,
   "metadata": {
    "scrolled": true
   },
   "outputs": [
    {
     "name": "stdout",
     "output_type": "stream",
     "text": [
      "k1\n",
      "k2\n",
      "k3\n",
      "('k1', 1)\n",
      "('k2', 2)\n",
      "('k3', 3)\n",
      "1\n",
      "2\n",
      "3\n",
      "k1 1\n",
      "k2 2\n",
      "k3 3\n"
     ]
    }
   ],
   "source": [
    "d = {'k1':1, 'k2':2, 'k3':3}\n",
    "for item in d:\n",
    "    print(item) # for loop default iterate key\n",
    "for item in d.items():\n",
    "    print(item)\n",
    "for value in d.values():\n",
    "    print(value)\n",
    "for key, value in d.items():\n",
    "    print (key, value) # tuple unpacking"
   ]
  },
  {
   "cell_type": "code",
   "execution_count": 11,
   "metadata": {},
   "outputs": [
    {
     "name": "stdout",
     "output_type": "stream",
     "text": [
      "S\n",
      "m\n",
      "m\n",
      "y\n",
      "S\n"
     ]
    }
   ],
   "source": [
    "mystring = 'Sammy'\n",
    "\n",
    "for letter in mystring:\n",
    "    pass # placeholder, do nothing\n",
    "\n",
    "for letter in mystring:\n",
    "    if letter == 'a':\n",
    "        continue # skip printing letter a\n",
    "    print(letter)\n",
    "    \n",
    "for letter in mystring:\n",
    "    if letter == 'a':\n",
    "        break # break when iterate to letter a\n",
    "    print(letter)\n",
    "    \n"
   ]
  },
  {
   "cell_type": "code",
   "execution_count": 13,
   "metadata": {
    "scrolled": true
   },
   "outputs": [
    {
     "name": "stdout",
     "output_type": "stream",
     "text": [
      "0\n",
      "2\n",
      "4\n",
      "6\n",
      "8\n",
      "10\n"
     ]
    },
    {
     "data": {
      "text/plain": [
       "[0, 2, 4, 6, 8, 10]"
      ]
     },
     "execution_count": 13,
     "metadata": {},
     "output_type": "execute_result"
    }
   ],
   "source": [
    "for num in range(0,11,2):\n",
    "    print(num) # range() is a generator\n",
    "list(range(0,11,2))"
   ]
  },
  {
   "cell_type": "code",
   "execution_count": 20,
   "metadata": {
    "scrolled": true
   },
   "outputs": [
    {
     "name": "stdout",
     "output_type": "stream",
     "text": [
      "(0, 'a')\n",
      "(1, 'b')\n",
      "(2, 'c')\n",
      "(3, 'd')\n",
      "(4, 'e')\n",
      "(5, 'f')\n",
      "(6, 'g')\n",
      "0 a\n",
      "1 b\n",
      "2 c\n",
      "3 d\n",
      "4 e\n",
      "5 f\n",
      "6 g\n"
     ]
    }
   ],
   "source": [
    "word = ['a','b','c','d','e','f','g']\n",
    "list(enumerate(word)) # enumerate() add an index to a iterables and return a tuple structure\n",
    "for item in list(enumerate(word)):\n",
    "    print(item)\n",
    "for a, b in list(enumerate(word)):\n",
    "    print(a, b)"
   ]
  },
  {
   "cell_type": "code",
   "execution_count": 22,
   "metadata": {
    "scrolled": true
   },
   "outputs": [
    {
     "name": "stdout",
     "output_type": "stream",
     "text": [
      "(1, 'a', 100)\n",
      "(2, 'b', 200)\n",
      "(3, 'c', 300)\n",
      "1 a 100\n",
      "2 b 200\n",
      "3 c 300\n"
     ]
    }
   ],
   "source": [
    "mylist1 = [1, 2, 3, 4, 5, 6]\n",
    "mylist2 = ['a', 'b', 'c']\n",
    "mylist3 = [100, 200, 300]\n",
    "for item in zip(mylist1, mylist2, mylist3):\n",
    "    print (item) #zip() is to zip multiple iterables and return tuple structure\n",
    "for a, b, c in zip(mylist1, mylist2, mylist3):\n",
    "    print(a, b, c)#tuple unpacking"
   ]
  },
  {
   "cell_type": "code",
   "execution_count": 32,
   "metadata": {},
   "outputs": [
    {
     "name": "stdout",
     "output_type": "stream",
     "text": [
      "start\n",
      "s\n",
      "sentence\n",
      "0\n",
      "2\n",
      "4\n",
      "6\n",
      "8\n",
      "10\n",
      "[3, 6, 9, 12, 15, 18, 21, 24, 27, 30, 33, 36, 39, 42, 45, 48]\n",
      "\"word\" contains even number of characters!\n",
      "\"in\" contains even number of characters!\n",
      "\"this\" contains even number of characters!\n",
      "\"sentence\" contains even number of characters!\n",
      "\"that\" contains even number of characters!\n",
      "\"an\" contains even number of characters!\n",
      "\"even\" contains even number of characters!\n",
      "\"number\" contains even number of characters!\n",
      "\"of\" contains even number of characters!\n",
      "['C', 'a', 'l', 'o', 't', 'f', 'l', 'o', 'e', 'w', 'i', 't', 's']\n"
     ]
    }
   ],
   "source": [
    "st = 'Print only the words that start with s in this sentence'\n",
    "for item in st.split():\n",
    "    if item[0] == 's' or item[0] == 'S':\n",
    "        print(item)\n",
    "        \n",
    "for num in range(0,11,2):\n",
    "    print(num)\n",
    "    \n",
    "list = [x for x in range(1,51) if x%3 == 0]\n",
    "print(list)\n",
    "\n",
    "st1 = 'Print every word in this sentence that has an even number of letters'\n",
    "for item in st1.split():\n",
    "    if len(item)%2 == 0:\n",
    "        print(f\"\\\"{item}\\\" contains even number of characters!\")\n",
    "        \n",
    "st2 = 'Create a list of the first letters of every word in this string'\n",
    "list = [item[0] for item in st2.split()]\n",
    "print(list)\n"
   ]
  }
 ],
 "metadata": {
  "kernelspec": {
   "display_name": "Python 3",
   "language": "python",
   "name": "python3"
  },
  "language_info": {
   "codemirror_mode": {
    "name": "ipython",
    "version": 3
   },
   "file_extension": ".py",
   "mimetype": "text/x-python",
   "name": "python",
   "nbconvert_exporter": "python",
   "pygments_lexer": "ipython3",
   "version": "3.7.5"
  }
 },
 "nbformat": 4,
 "nbformat_minor": 2
}
