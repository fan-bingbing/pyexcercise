{
 "cells": [
  {
   "cell_type": "code",
   "execution_count": 1,
   "metadata": {},
   "outputs": [
    {
     "name": "stdout",
     "output_type": "stream",
     "text": [
      "['a', 'b', 'c', 'd']\n"
     ]
    }
   ],
   "source": [
    "class Stack():\n",
    "    \n",
    "    def __init__(self):\n",
    "        self.stack = list()\n",
    "        self.size = 0\n",
    "        \n",
    "    def push(self, item):\n",
    "        self.stack.append(item)\n",
    "        self.size += 1\n",
    "        \n",
    "    def pop(self):\n",
    "        if len(self.stack)>0:\n",
    "            self.size -= 1\n",
    "            return self.stack.pop()\n",
    "        \n",
    "        else:\n",
    "            return None\n",
    "    \n",
    "    def get_size(self):\n",
    "        return self.size\n",
    "        \n",
    "    def peek(self):\n",
    "        if len(self.stack)>0:\n",
    "            return self.stack[len(self.stack)-1]\n",
    "        else:\n",
    "            return None\n",
    "        \n",
    "    def __str__(self):\n",
    "        return str(self.stack)\n",
    "    \n",
    "s = Stack()\n",
    "s.push('a')\n",
    "s.push('b')\n",
    "s.push('c')\n",
    "s.push('d')\n",
    "print(s)"
   ]
  },
  {
   "cell_type": "code",
   "execution_count": 18,
   "metadata": {},
   "outputs": [
    {
     "data": {
      "text/plain": [
       "'d'"
      ]
     },
     "execution_count": 18,
     "metadata": {},
     "output_type": "execute_result"
    }
   ],
   "source": [
    "s.pop()"
   ]
  },
  {
   "cell_type": "code",
   "execution_count": 19,
   "metadata": {},
   "outputs": [
    {
     "data": {
      "text/plain": [
       "'c'"
      ]
     },
     "execution_count": 19,
     "metadata": {},
     "output_type": "execute_result"
    }
   ],
   "source": [
    "s.peek()"
   ]
  },
  {
   "cell_type": "code",
   "execution_count": 21,
   "metadata": {
    "scrolled": true
   },
   "outputs": [
    {
     "name": "stdout",
     "output_type": "stream",
     "text": [
      "['a', 'b', 'c']\n"
     ]
    }
   ],
   "source": [
    "print(s)"
   ]
  },
  {
   "cell_type": "code",
   "execution_count": 13,
   "metadata": {},
   "outputs": [],
   "source": [
    "class Queue():\n",
    "    \n",
    "    def __init__(self):\n",
    "        self.queue = list()\n",
    "        self.size = 0\n",
    "    \n",
    "    def enqueue(self, item):\n",
    "        self.queue.append(item)\n",
    "        self.size += 1\n",
    "        \n",
    "    def dequeue(self):\n",
    "        if len(self.queue)>0:\n",
    "            self.size -= 1\n",
    "            return self.queue.pop(0)\n",
    "        else:\n",
    "            return None\n",
    "        \n",
    "    def get_size(self):\n",
    "        return self.size\n",
    "    \n",
    "    def __str__(self):\n",
    "        return str(self.queue)\n",
    "    \n",
    "q = Queue()"
   ]
  },
  {
   "cell_type": "code",
   "execution_count": 2,
   "metadata": {
    "scrolled": true
   },
   "outputs": [
    {
     "name": "stdout",
     "output_type": "stream",
     "text": [
      "3\n",
      "['a', 'b', 'c']\n"
     ]
    }
   ],
   "source": [
    "q.enqueue('a')\n",
    "q.enqueue('b')\n",
    "q.enqueue('c')\n",
    "print(q.get_size())\n",
    "print(q)"
   ]
  },
  {
   "cell_type": "code",
   "execution_count": 12,
   "metadata": {
    "scrolled": false
   },
   "outputs": [
    {
     "name": "stdout",
     "output_type": "stream",
     "text": [
      "0\n",
      "[]\n"
     ]
    }
   ],
   "source": [
    "q.dequeue()\n",
    "print(q.get_size())\n",
    "print(q)"
   ]
  },
  {
   "cell_type": "code",
   "execution_count": 8,
   "metadata": {},
   "outputs": [
    {
     "name": "stdout",
     "output_type": "stream",
     "text": [
      "{(foo)(bar)}[hello](((this)is)a)test: True\n",
      "{(foo)(bar)}[hello](((this)is)atest: False\n",
      "{(foo)(bar)}[hello](((this)is)a)test): False\n"
     ]
    }
   ],
   "source": [
    "def check_brackets(statement):\n",
    "    stack = Stack()\n",
    "    for ch in statement:\n",
    "        if ch in ('(', '[', '{'):\n",
    "            stack.push(ch)\n",
    "        if ch in (')', ']', '}'):\n",
    "            last = stack.pop()\n",
    "            if last is '(' and ch is ')':\n",
    "                continue\n",
    "            elif last is '[' and ch is ']':\n",
    "                continue\n",
    "            elif last is '{' and ch is '}':\n",
    "                continue\n",
    "            elif last is None:\n",
    "                return False\n",
    "                \n",
    "    if stack.size > 0:\n",
    "        return False\n",
    "    else:\n",
    "        return True\n",
    "    \n",
    "s1 = (\n",
    "    \"{(foo)(bar)}[hello](((this)is)a)test\",\n",
    "    \"{(foo)(bar)}[hello](((this)is)atest\",\n",
    "    \"{(foo)(bar)}[hello](((this)is)a)test)\"\n",
    ")\n",
    "\n",
    "for s in s1:\n",
    "    m = check_brackets(s)\n",
    "    print(f\"{s}: {m}\")\n",
    "        "
   ]
  },
  {
   "cell_type": "code",
   "execution_count": 16,
   "metadata": {},
   "outputs": [
    {
     "name": "stdout",
     "output_type": "stream",
     "text": [
      "now playing LionKing\n",
      "now playing Frozen\n",
      "now playing Aladin\n",
      "now playing PeterPan\n",
      "now playing BeautyAndBeast\n"
     ]
    }
   ],
   "source": [
    "from random import randint\n",
    "import time\n",
    "\n",
    "class Track():\n",
    "    def __init__(self, name=None):\n",
    "        self.name = name\n",
    "        self.length = randint(1, 5)\n",
    "\n",
    "track1 = Track(\"LionKing\")\n",
    "track2 = Track(\"Frozen\")\n",
    "track3 = Track(\"Aladin\")\n",
    "track4 = Track(\"PeterPan\")\n",
    "track5 = Track(\"BeautyAndBeast\")\n",
    "\n",
    "\n",
    "# print(track1.length)\n",
    "# print(track2.length)\n",
    "\n",
    "class SoundTrackQueue(Queue):\n",
    "#     def __init__(self):\n",
    "#         super(SoundTrackQueue, self).__init__()\n",
    "        \n",
    "    def add_track(self, track):\n",
    "        self.enqueue(track)\n",
    "        \n",
    "    def play(self):\n",
    "        while self.size > 0:\n",
    "            current_track = self.dequeue()\n",
    "            print(f\"now playing {current_track.name}\")\n",
    "            time.sleep(current_track.length)\n",
    "            \n",
    "            \n",
    "playlist = SoundTrackQueue()\n",
    "playlist.add_track(track1)\n",
    "playlist.add_track(track2)\n",
    "playlist.add_track(track3)\n",
    "playlist.add_track(track4)\n",
    "playlist.add_track(track5)\n",
    "playlist.play()\n"
   ]
  }
 ],
 "metadata": {
  "kernelspec": {
   "display_name": "Python 3",
   "language": "python",
   "name": "python3"
  },
  "language_info": {
   "codemirror_mode": {
    "name": "ipython",
    "version": 3
   },
   "file_extension": ".py",
   "mimetype": "text/x-python",
   "name": "python",
   "nbconvert_exporter": "python",
   "pygments_lexer": "ipython3",
   "version": "3.7.5"
  }
 },
 "nbformat": 4,
 "nbformat_minor": 2
}
