{
 "cells": [
  {
   "cell_type": "code",
   "execution_count": 15,
   "metadata": {},
   "outputs": [
    {
     "name": "stdout",
     "output_type": "stream",
     "text": [
      "C:\\Users\\afan\\Desktop\n",
      "C:\\Users\\afan\\Desktop\n",
      "['10-0bebe676_20180102115828.lic', 'ads2017_shp.exe', 'Atom.lnk', 'bt noise test.txt', 'CAT_XRS330_CP50_v1.exe', 'CAT_XRS330_CP50_v1.zip', 'CM60E_v1.12f.exe', 'CM60VHF', 'CM60_v2.13N_MSM_v04.00.03.geb', 'conda-cheatsheet.pdf', 'counters cal address.docx', 'CP50 - Shortcut.lnk', 'cx50_control.py', 'cx50_manufacturing_test_equipment.py', 'desktop.ini', 'Docker Desktop.lnk', 'Dropbox.lnk', 'EERE-2008-BT-STD-0005-0218.pdf', 'EMC', 'EME', 'EpicorERPPilot Environment.lnk', 'exp', 'F2014L01580.pdf', 'Form 005 Customer Information Sheet.dotx', 'FORM 005 v11.docx', 'from simon', 'github-git-cheat-sheet.pdf', 'icom', 'IMG_1089.JPG', 'IMG_1094.JPG', 'ip config.png', 'jenkins-machine.ova', 'Kernel for Excel Demo.lnk', 'loader - Shortcut.lnk', 'MAD limit cal.xlsx', 'marconi test cases.txt', 'mary temp', 'Microsoft Edge.lnk', 'Microsoft Teams.lnk', 'OfflineSetup_Altium_Designer_Public_19_1_5', 'OfflineSetup_Altium_Designer_Public_19_1_5.zip', 'pic1.png', 'pic2.png', 'power supply', 'psk12_C1C2_temp.picolog', 'radiocomm', 'Radiocommunications (Compliance Labelling—Electromagnetic Radiation) Notice 2014.html', 'Radiocommunications (Compliance Labelling—Electromagnetic Radiation) Notice 2014_files', 'RbMon.lnk', 'SDS', 'signature_AaronFan.png', 'Sourcetree.lnk', 'Stellar Phoenix Excel Repair.lnk', 'test running.docx', 'top 10 algorithms.txt', 'TX3350.exe', 'tx6160 car charger', 'useful stuff.txt', 'VEVO Visa Details Check - YU FAN.pdf', 'VPN Gateway.txt']\n"
     ]
    }
   ],
   "source": [
    "import os\n",
    "from datetime import datetime\n",
    "\n",
    "print(os.getcwd())\n",
    "os.chdir('C:\\\\Users\\\\afan\\\\Desktop') # change current dir to destop\n",
    "\n",
    "\n",
    "print(os.getcwd()) # print current dir\n",
    "print(os.listdir())# list folders and files\n",
    "# os.mkdir('OS-Demo') # create folder\n",
    "# os.rmdir('OS-Demo') # delete folder\n",
    "# os.rename('test.txt', 'demo.txt') # rename a file\n",
    "\n",
    "\n",
    "# os.stat('demo.txt') # get status of a file\n",
    "# mod_time = os.stat('demo.txt').st_mtime # get last-modified time of a file\n",
    "# print(datetime.fromtimestamp(mod_time)) # print human readable timestamp\n",
    "\n",
    "\n",
    "# os.mkdirs('OS-Demo\\\\Sub-dir') # create folder containing sub-folder\n",
    "# os.rmdirs('OS-Demo\\\\Sub-dir') # delete folders\n"
   ]
  },
  {
   "cell_type": "code",
   "execution_count": 18,
   "metadata": {},
   "outputs": [],
   "source": [
    "os.mkdir('OS-Demo') # create folder"
   ]
  },
  {
   "cell_type": "code",
   "execution_count": 19,
   "metadata": {},
   "outputs": [],
   "source": [
    "os.rmdir('OS-Demo') # delete folder"
   ]
  },
  {
   "cell_type": "code",
   "execution_count": 20,
   "metadata": {},
   "outputs": [],
   "source": [
    "os.chdir('C:\\\\Users\\\\afan\\\\Documents\\\\pyexercise\\\\CoreySchafer')"
   ]
  },
  {
   "cell_type": "code",
   "execution_count": 22,
   "metadata": {},
   "outputs": [
    {
     "name": "stdout",
     "output_type": "stream",
     "text": [
      "Current Path: C:\\Users\\afan\\Documents\\pyexercise\\CoreySchafer\n",
      "Directories: ['.ipynb_checkpoints', 'original', 'processed']\n",
      "Files ['context_manager.py.ipynb', 'display_info.log', 'employee.log', 'file_object.ipynb', 'lake.jpg', 'lake_copy.jpg', 'lake_copy1.jpg', 'logging.ipynb', 'multiprocessing_tutorial.ipynb', 'multiprocess_tutorial_1.py', 'multiprocess_tutorial_2.py', 'multiprocess_tutorial_3.py', 'multiprocess_tutorial_4.py', 'multiprocess_tutorial_5.py', 'multiprocess_tutorial_6.py', 'multiprocess_tutorial_7.py', 'multiprocess_tutorial_8.py', 'os_module.ipynb', 'sample.txt', 'sample_copy.txt', 'threading_tutorial.ipynb']\n",
      "Current Path: C:\\Users\\afan\\Documents\\pyexercise\\CoreySchafer\\.ipynb_checkpoints\n",
      "Directories: []\n",
      "Files ['context_manager.py-checkpoint.ipynb', 'file_object-checkpoint.ipynb', 'logging-checkpoint.ipynb', 'multiprocessing_tutorial-checkpoint.ipynb', 'os_module-checkpoint.ipynb', 'threading_tutorial-checkpoint.ipynb']\n",
      "Current Path: C:\\Users\\afan\\Documents\\pyexercise\\CoreySchafer\\original\n",
      "Directories: []\n",
      "Files ['photo-1493976040374-85c8e12f0c0e.jpg', 'photo-1504198453319-5ce911bafcde.jpg', 'photo-1507143550189-fed454f93097.jpg', 'photo-1513938709626-033611b8cc03.jpg', 'photo-1516117172878-fd2c41f4a759.jpg', 'photo-1516972810927-80185027ca84.jpg', 'photo-1522364723953-452d3431c267.jpg', 'photo-1524429656589-6633a470097c.jpg', 'photo-1530122037265-a5f1f91d3b99.jpg', 'photo-1530224264768-7ff8c1789d79.jpg', 'photo-1532009324734-20a7a5813719.jpg', 'photo-1541698444083-023c97d3f4b6.jpg', 'photo-1549692520-acc6669e2f0c.jpg', 'photo-1550439062-609e1531270e.jpg', 'photo-1564135624576-c5c88640f235.jpg']\n",
      "Current Path: C:\\Users\\afan\\Documents\\pyexercise\\CoreySchafer\\processed\n",
      "Directories: []\n",
      "Files ['photo-1493976040374-85c8e12f0c0e.jpg', 'photo-1504198453319-5ce911bafcde.jpg', 'photo-1507143550189-fed454f93097.jpg', 'photo-1513938709626-033611b8cc03.jpg', 'photo-1516117172878-fd2c41f4a759.jpg', 'photo-1516972810927-80185027ca84.jpg', 'photo-1522364723953-452d3431c267.jpg', 'photo-1524429656589-6633a470097c.jpg', 'photo-1530122037265-a5f1f91d3b99.jpg', 'photo-1530224264768-7ff8c1789d79.jpg', 'photo-1532009324734-20a7a5813719.jpg', 'photo-1541698444083-023c97d3f4b6.jpg', 'photo-1549692520-acc6669e2f0c.jpg', 'photo-1550439062-609e1531270e.jpg', 'photo-1564135624576-c5c88640f235.jpg']\n"
     ]
    }
   ],
   "source": [
    "for dirpath, dirnames, filenames in os.walk('C:\\\\Users\\\\afan\\\\Documents\\\\pyexercise\\\\CoreySchafer'):\n",
    "    print('Current Path:', dirpath)# os.walk traverse directories layer by layer\n",
    "    print('Directories:', dirnames)\n",
    "    print('Files', filenames)"
   ]
  },
  {
   "cell_type": "code",
   "execution_count": 29,
   "metadata": {},
   "outputs": [
    {
     "data": {
      "text/plain": [
       "'C:\\\\Users\\\\afan\\\\bin;C:\\\\Program Files\\\\Git\\\\mingw64\\\\bin;C:\\\\Program Files\\\\Git\\\\usr\\\\local\\\\bin;C:\\\\Program Files\\\\Git\\\\usr\\\\bin;C:\\\\Program Files\\\\Git\\\\usr\\\\bin;C:\\\\Program Files\\\\Git\\\\mingw64\\\\bin;C:\\\\Program Files\\\\Git\\\\usr\\\\bin;C:\\\\Users\\\\afan\\\\bin;C:\\\\ProgramData\\\\DockerDesktop\\\\version-bin;C:\\\\Program Files\\\\Docker\\\\Docker\\\\Resources\\\\bin;C:\\\\Anaconda3;C:\\\\Anaconda3\\\\Library\\\\mingw-w64\\\\bin;C:\\\\Anaconda3\\\\Library\\\\usr\\\\bin;C:\\\\Anaconda3\\\\Library\\\\bin;C:\\\\Anaconda3\\\\Scripts;C:\\\\KRMMwork\\\\Bin;C:\\\\Windows\\\\system32;C:\\\\Windows;C:\\\\Windows\\\\System32\\\\Wbem;C:\\\\Windows\\\\System32\\\\WindowsPowerShell\\\\v1.0;C:\\\\Windows\\\\System32\\\\OpenSSH;C:\\\\Program Files\\\\IVI Foundation\\\\VISA\\\\Win64\\\\Bin;C:\\\\Program Files\\\\PuTTY;C:\\\\Program Files (x86)\\\\IVI Foundation\\\\VISA\\\\WinNT\\\\Bin;C:\\\\Program Files\\\\Git\\\\cmd;C:\\\\Program Files\\\\Pandoc;C:\\\\MiKTeX 2.9\\\\miktex\\\\bin\\\\x64;C:\\\\Program Files (x86)\\\\Brackets\\\\command;C:\\\\Program Files (x86)\\\\IVI Foundation\\\\VISA\\\\WinNT\\\\Bin;C:\\\\Program Files\\\\IVI Foundation\\\\VISA\\\\Win64\\\\Bin;C:\\\\sqlite3;C:\\\\Program Files\\\\Java\\\\jdk-13.0.1\\\\bin;C:\\\\Users\\\\afan\\\\AppData\\\\Local\\\\Microsoft\\\\WindowsApps;C:\\\\Users\\\\afan\\\\AppData\\\\Local\\\\atom\\\\bin;C:\\\\MiKTeX 2.9\\\\miktex\\\\bin\\\\x64;C:\\\\Program Files\\\\Git\\\\usr\\\\bin\\\\vendor_perl;C:\\\\Program Files\\\\Git\\\\usr\\\\bin\\\\core_perl'"
      ]
     },
     "execution_count": 29,
     "metadata": {},
     "output_type": "execute_result"
    }
   ],
   "source": [
    "os.environ.get('PATH')\n",
    "os.environ\n"
   ]
  },
  {
   "cell_type": "code",
   "execution_count": 36,
   "metadata": {},
   "outputs": [],
   "source": [
    "file_path = os.path.join('C:\\\\Users\\\\afan\\\\Desktop', 'test.txt') # create a file path\n",
    "with open(file_path, 'w') as f: # create a file using this path\n",
    "    f.write('test.txt created.')"
   ]
  },
  {
   "cell_type": "code",
   "execution_count": 39,
   "metadata": {
    "scrolled": true
   },
   "outputs": [
    {
     "name": "stdout",
     "output_type": "stream",
     "text": [
      "test.txt\n",
      "C:\\Users\\afan\\Desktop\n",
      "('C:\\\\Users\\\\afan\\\\Desktop', 'test.txt')\n",
      "False\n",
      "False\n",
      "False\n",
      "('C:\\\\Users\\\\afan\\\\Desktop\\\\test', '.txt')\n"
     ]
    }
   ],
   "source": [
    "print(os.path.basename('C:\\\\Users\\\\afan\\\\Desktop\\\\test.txt'))\n",
    "print(os.path.dirname('C:\\\\Users\\\\afan\\\\Desktop\\\\test.txt'))\n",
    "print(os.path.split('C:\\\\Users\\\\afan\\\\Desktop\\\\test.txt'))\n",
    "print(os.path.exists('C:\\\\Users\\\\afan\\\\Desktop\\\\test.txt')) # check if file exist in this path\n",
    "print(os.path.isdir('C:\\\\Users\\\\afan\\\\Desktop\\\\test.txt'))\n",
    "print(os.path.isfile('C:\\\\Users\\\\afan\\\\Desktop\\\\test.txt'))\n",
    "print(os.path.splitext('C:\\\\Users\\\\afan\\\\Desktop\\\\test.txt')) # split file extension "
   ]
  }
 ],
 "metadata": {
  "kernelspec": {
   "display_name": "Python 3",
   "language": "python",
   "name": "python3"
  },
  "language_info": {
   "codemirror_mode": {
    "name": "ipython",
    "version": 3
   },
   "file_extension": ".py",
   "mimetype": "text/x-python",
   "name": "python",
   "nbconvert_exporter": "python",
   "pygments_lexer": "ipython3",
   "version": "3.7.5"
  }
 },
 "nbformat": 4,
 "nbformat_minor": 4
}
