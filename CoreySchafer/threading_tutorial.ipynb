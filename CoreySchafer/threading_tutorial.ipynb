{
 "cells": [
  {
   "cell_type": "code",
   "execution_count": 2,
   "metadata": {},
   "outputs": [
    {
     "name": "stdout",
     "output_type": "stream",
     "text": [
      "Sleeping 1 second...\n",
      "Done sleeping...\n",
      "Sleeping 1 second...\n",
      "Done sleeping...\n",
      "Finished in 2.01 second(s)\n"
     ]
    }
   ],
   "source": [
    "import time\n",
    "\n",
    "start = time.perf_counter()\n",
    "\n",
    "def do_something():\n",
    "    \n",
    "    print('Sleeping 1 second...')\n",
    "    time.sleep(1)\n",
    "    print('Done sleeping...')\n",
    "    \n",
    "do_something()\n",
    "do_something()\n",
    "\n",
    "finish = time.perf_counter()\n",
    "\n",
    "print(f\"Finished in {round(finish-start, 2)} second(s)\")\n",
    "\n",
    "# CPU bound task: crunching numbers using CPU\n",
    "# IO bound task: waiting for input/output operationgs to be completed, not using CPU that much such as rw file, network/download\n",
    "# threads is used for IO bound task, run them concurrently in one process, almost at the same time\n",
    "# multiprocessing is used for CPU bound task, run them at the same time in different process"
   ]
  },
  {
   "cell_type": "code",
   "execution_count": 18,
   "metadata": {},
   "outputs": [
    {
     "name": "stdout",
     "output_type": "stream",
     "text": [
      "Sleeping 1 second...Sleeping 1 second...\n",
      "\n",
      "Done sleeping...Done sleeping...\n",
      "\n",
      "Finished in 1.02 second(s)\n"
     ]
    }
   ],
   "source": [
    "import time\n",
    "import threading\n",
    "\n",
    "start = time.perf_counter()\n",
    "\n",
    "def do_something():\n",
    "    \n",
    "    print('Sleeping 1 second...')\n",
    "    time.sleep(1)\n",
    "    print('Done sleeping...')\n",
    "    \n",
    "t1 = threading.Thread(target=do_something)\n",
    "t2 = threading.Thread(target=do_something)\n",
    "\n",
    "t1.start()\n",
    "t2.start()\n",
    "\n",
    "t1.join()\n",
    "t2.join()\n",
    "\n",
    "finish = time.perf_counter()\n",
    "\n",
    "print(f\"Finished in {round(finish-start, 2)} second(s)\")"
   ]
  },
  {
   "cell_type": "code",
   "execution_count": 6,
   "metadata": {},
   "outputs": [
    {
     "name": "stdout",
     "output_type": "stream",
     "text": [
      "Sleeping 1 second...\n",
      "Sleeping 1 second...\n",
      "Sleeping 1 second...Sleeping 1 second...\n",
      "\n",
      "Sleeping 1 second...\n",
      "Sleeping 1 second...\n",
      "Sleeping 1 second...\n",
      "Sleeping 1 second...\n",
      "Sleeping 1 second...\n",
      "Sleeping 1 second...\n",
      "Done sleeping...\n",
      "Done sleeping...\n",
      "Done sleeping...\n",
      "Done sleeping...\n",
      "Done sleeping...\n",
      "Done sleeping...\n",
      "Done sleeping...\n",
      "Done sleeping...\n",
      "Done sleeping...\n",
      "Done sleeping...\n",
      "Finished in 1.09 second(s)\n"
     ]
    }
   ],
   "source": [
    "import time\n",
    "import threading\n",
    "\n",
    "start = time.perf_counter()\n",
    "\n",
    "def do_something():\n",
    "    \n",
    "    print('Sleeping 1 second...')\n",
    "    time.sleep(1)\n",
    "    print('Done sleeping...')\n",
    "    \n",
    "threads = []\n",
    "    \n",
    "for _ in range(10):\n",
    "    t1 = threading.Thread(target=do_something)\n",
    "    t1.start()\n",
    "    threads.append(t1)\n",
    "    \n",
    "for thread in threads: # .join() has to be in a seperate for loop joining elements in threads\n",
    "    thread.join()\n",
    "    \n",
    "\n",
    "finish = time.perf_counter()\n",
    "\n",
    "print(f\"Finished in {round(finish-start, 2)} second(s)\")"
   ]
  },
  {
   "cell_type": "code",
   "execution_count": 7,
   "metadata": {},
   "outputs": [
    {
     "name": "stdout",
     "output_type": "stream",
     "text": [
      "Sleeping 1.5 second(s)...Sleeping 1.5 second(s)...\n",
      "Sleeping 1.5 second(s)...\n",
      "\n",
      "Sleeping 1.5 second(s)...Sleeping 1.5 second(s)...\n",
      "\n",
      "Sleeping 1.5 second(s)...\n",
      "Sleeping 1.5 second(s)...Sleeping 1.5 second(s)...\n",
      "\n",
      "Sleeping 1.5 second(s)...\n",
      "Sleeping 1.5 second(s)...\n",
      "Done sleeping...\n",
      "Done sleeping...\n",
      "Done sleeping...\n",
      "Done sleeping...Done sleeping...\n",
      "\n",
      "Done sleeping...\n",
      "Done sleeping...Done sleeping...\n",
      "\n",
      "Done sleeping...\n",
      "Done sleeping...\n",
      "Finished in 1.62 second(s)\n"
     ]
    }
   ],
   "source": [
    "import time\n",
    "import threading\n",
    "\n",
    "start = time.perf_counter()\n",
    "\n",
    "def do_something(seconds):\n",
    "    \n",
    "    print(f'Sleeping {seconds} second(s)...')\n",
    "    time.sleep(seconds)\n",
    "    print('Done sleeping...')\n",
    "    \n",
    "threads = []\n",
    "    \n",
    "for _ in range(10):\n",
    "    t1 = threading.Thread(target=do_something, args=[1.5])\n",
    "    t1.start()\n",
    "    threads.append(t1)\n",
    "    \n",
    "for thread in threads:\n",
    "    thread.join()\n",
    "    \n",
    "\n",
    "finish = time.perf_counter()\n",
    "\n",
    "print(f\"Finished in {round(finish-start, 2)} second(s)\")"
   ]
  },
  {
   "cell_type": "code",
   "execution_count": 12,
   "metadata": {
    "scrolled": true
   },
   "outputs": [
    {
     "name": "stdout",
     "output_type": "stream",
     "text": [
      "Sleeping 1 second(s)...\n",
      "Sleeping 1 second(s)...\n",
      "Sleeping 1 second(s)...\n",
      "Sleeping 1 second(s)...\n",
      "Sleeping 1 second(s)...Sleeping 1 second(s)...\n",
      "\n",
      "Sleeping 1 second(s)...\n",
      "Sleeping 1 second(s)...\n",
      "Sleeping 1 second(s)...\n",
      "Sleeping 1 second(s)...\n",
      "Done sleeping...\n",
      "Done sleeping...\n",
      "Done sleeping...\n",
      "Done sleeping...\n",
      "Done sleeping...\n",
      "Done sleeping...\n",
      "Done sleeping...\n",
      "Done sleeping...\n",
      "Done sleeping...\n",
      "Done sleeping...\n",
      "Finished in 1.1 second(s)\n"
     ]
    }
   ],
   "source": [
    "import time\n",
    "import concurrent.futures\n",
    "\n",
    "start = time.perf_counter()\n",
    "\n",
    "def do_something(seconds):\n",
    "    \n",
    "    print(f'Sleeping {seconds} second(s)...')\n",
    "    time.sleep(seconds)\n",
    "    return 'Done sleeping...'\n",
    "    \n",
    "with concurrent.futures.ThreadPoolExecutor() as executor: # executor.submit() will return do_something() returned value\n",
    "    results = [executor.submit(do_something, 1) for _ in range(10)]\n",
    "    \n",
    "    for f in concurrent.futures.as_completed(results):\n",
    "        print(f.result())\n",
    "    \n",
    "\n",
    "finish = time.perf_counter()\n",
    "\n",
    "print(f\"Finished in {round(finish-start, 2)} second(s)\")"
   ]
  },
  {
   "cell_type": "code",
   "execution_count": 14,
   "metadata": {
    "scrolled": true
   },
   "outputs": [
    {
     "name": "stdout",
     "output_type": "stream",
     "text": [
      "Sleeping 5 second(s)...\n",
      "Sleeping 4 second(s)...\n",
      "Sleeping 3 second(s)...\n",
      "Sleeping 2 second(s)...\n",
      "Sleeping 1 second(s)...\n",
      "Done sleeping...5\n",
      "Done sleeping...4\n",
      "Done sleeping...3\n",
      "Done sleeping...2\n",
      "Done sleeping...1\n",
      "Finished in 5.02 second(s)\n"
     ]
    }
   ],
   "source": [
    "import time\n",
    "import concurrent.futures\n",
    "\n",
    "start = time.perf_counter()\n",
    "\n",
    "def do_something(seconds):\n",
    "    \n",
    "    print(f'Sleeping {seconds} second(s)...')\n",
    "    time.sleep(seconds)\n",
    "    return (f'Done sleeping...{seconds}')\n",
    "    \n",
    "with concurrent.futures.ThreadPoolExecutor() as executor:\n",
    "    secs = [5, 4, 3, 2, 1] # start 5sec one first\n",
    "    results = [executor.submit(do_something, sec) for sec in secs]\n",
    "    \n",
    "    for f in concurrent.futures.as_completed(results): # prove that as_completed method works\n",
    "        print(f.result()) # check 1sec finish first and then all others\n",
    "        \n",
    "        \n",
    "# try below code block using build-in map() function, see what the difference is:\n",
    "\n",
    "#     secs = [5, 4, 3, 2, 1]\n",
    "#     results = executor.map(do_something, secs)\n",
    "    \n",
    "#     for result in results:\n",
    "#         print(result)\n",
    "    \n",
    "\n",
    "finish = time.perf_counter()\n",
    "\n",
    "print(f\"Finished in {round(finish-start, 2)} second(s)\")"
   ]
  },
  {
   "cell_type": "code",
   "execution_count": 2,
   "metadata": {
    "scrolled": true
   },
   "outputs": [
    {
     "name": "stdout",
     "output_type": "stream",
     "text": [
      "photo-1516117172878-fd2c41f4a759.jpg was downloaded...\n",
      "photo-1549692520-acc6669e2f0c.jpg was downloaded...\n",
      "photo-1507143550189-fed454f93097.jpg was downloaded...\n",
      "photo-1564135624576-c5c88640f235.jpg was downloaded...\n",
      "photo-1516972810927-80185027ca84.jpg was downloaded...\n",
      "photo-1530224264768-7ff8c1789d79.jpg was downloaded...\n",
      "photo-1550439062-609e1531270e.jpg was downloaded...\n",
      "photo-1504198453319-5ce911bafcde.jpg was downloaded...\n",
      "photo-1530122037265-a5f1f91d3b99.jpg was downloaded...\n",
      "photo-1513938709626-033611b8cc03.jpg was downloaded...\n",
      "photo-1524429656589-6633a470097c.jpg was downloaded...\n",
      "photo-1541698444083-023c97d3f4b6.jpg was downloaded...\n",
      "photo-1522364723953-452d3431c267.jpg was downloaded...\n",
      "photo-1532009324734-20a7a5813719.jpg was downloaded...\n",
      "photo-1493976040374-85c8e12f0c0e.jpg was downloaded...\n",
      "Finished in 21.371501804000218 seconds\n"
     ]
    }
   ],
   "source": [
    "import requests\n",
    "import time\n",
    "import concurrent.futures\n",
    "\n",
    "img_urls = [\n",
    "    'https://images.unsplash.com/photo-1516117172878-fd2c41f4a759',\n",
    "    'https://images.unsplash.com/photo-1532009324734-20a7a5813719',\n",
    "    'https://images.unsplash.com/photo-1524429656589-6633a470097c',\n",
    "    'https://images.unsplash.com/photo-1530224264768-7ff8c1789d79',\n",
    "    'https://images.unsplash.com/photo-1564135624576-c5c88640f235',\n",
    "    'https://images.unsplash.com/photo-1541698444083-023c97d3f4b6',\n",
    "    'https://images.unsplash.com/photo-1522364723953-452d3431c267',\n",
    "    'https://images.unsplash.com/photo-1513938709626-033611b8cc03',\n",
    "    'https://images.unsplash.com/photo-1507143550189-fed454f93097',\n",
    "    'https://images.unsplash.com/photo-1493976040374-85c8e12f0c0e',\n",
    "    'https://images.unsplash.com/photo-1504198453319-5ce911bafcde',\n",
    "    'https://images.unsplash.com/photo-1530122037265-a5f1f91d3b99',\n",
    "    'https://images.unsplash.com/photo-1516972810927-80185027ca84',\n",
    "    'https://images.unsplash.com/photo-1550439062-609e1531270e',\n",
    "    'https://images.unsplash.com/photo-1549692520-acc6669e2f0c'\n",
    "]\n",
    "\n",
    "t1 = time.perf_counter()\n",
    "\n",
    "\n",
    "def download_image(img_url):\n",
    "    img_bytes = requests.get(img_url).content\n",
    "    img_name = img_url.split('/')[3]\n",
    "    img_name = f'{img_name}.jpg'\n",
    "    with open(f'original/{img_name}', 'wb') as img_file:\n",
    "        img_file.write(img_bytes)\n",
    "        print(f'{img_name} was downloaded...')\n",
    "\n",
    "\n",
    "with concurrent.futures.ThreadPoolExecutor() as executor:\n",
    "    executor.map(download_image, img_urls)\n",
    "\n",
    "\n",
    "t2 = time.perf_counter()\n",
    "print(f'Finished in {t2-t1} seconds')"
   ]
  }
 ],
 "metadata": {
  "kernelspec": {
   "display_name": "Python 3",
   "language": "python",
   "name": "python3"
  },
  "language_info": {
   "codemirror_mode": {
    "name": "ipython",
    "version": 3
   },
   "file_extension": ".py",
   "mimetype": "text/x-python",
   "name": "python",
   "nbconvert_exporter": "python",
   "pygments_lexer": "ipython3",
   "version": "3.7.5"
  }
 },
 "nbformat": 4,
 "nbformat_minor": 2
}
