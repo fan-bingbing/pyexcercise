{
 "cells": [
  {
   "cell_type": "code",
   "execution_count": 2,
   "metadata": {},
   "outputs": [
    {
     "name": "stdout",
     "output_type": "stream",
     "text": [
      "[Errno 2] No such file or directory: 'sample_opy.txt'\n"
     ]
    }
   ],
   "source": [
    "# python style: easier to ask forgiveness than permissions (EAFP), use error handling\n",
    "# this makes code run faster and more readable, avoid some race conditions when working with files\n",
    "\n",
    "try:\n",
    "    f = open('sample_copy.txt')\n",
    "except FileNotFoundError as e: # show original python error messge if file does not exit\n",
    "    print(e)\n",
    "except Exception as e: # catch errors other than file does not exist\n",
    "    print(e)"
   ]
  },
  {
   "cell_type": "code",
   "execution_count": 3,
   "metadata": {
    "scrolled": true
   },
   "outputs": [
    {
     "name": "stdout",
     "output_type": "stream",
     "text": [
      "1) Testing\n",
      "2) Second line\n",
      "3) Third line\n",
      "4) Fourth line\n",
      "5) Fifth line\n",
      "\n"
     ]
    }
   ],
   "source": [
    "try:\n",
    "    f = open('sample_copy.txt')\n",
    "except FileNotFoundError as e: \n",
    "    print(e)\n",
    "except Exception as e: \n",
    "    print(e)\n",
    "else: # if there's no exception happened, then execute code under 'else'\n",
    "    print(f.read())\n",
    "    f.close()"
   ]
  },
  {
   "cell_type": "code",
   "execution_count": 6,
   "metadata": {},
   "outputs": [
    {
     "name": "stdout",
     "output_type": "stream",
     "text": [
      "1) Testing\n",
      "2) Second line\n",
      "3) Third line\n",
      "4) Fourth line\n",
      "5) Fifth line\n",
      "\n",
      "Executing Finally, this will always run...\n"
     ]
    }
   ],
   "source": [
    "try:\n",
    "    f = open('sample_copy.txt')\n",
    "except FileNotFoundError as e: \n",
    "    print(e)\n",
    "except Exception as e: \n",
    "    print(e)\n",
    "else: \n",
    "    print(f.read())\n",
    "    f.close()\n",
    "finally: # this will always run in the end, it make sure something like database close down properly\n",
    "    print(\"Executing Finally, this will always run...\")"
   ]
  },
  {
   "cell_type": "code",
   "execution_count": 8,
   "metadata": {
    "scrolled": true
   },
   "outputs": [
    {
     "name": "stdout",
     "output_type": "stream",
     "text": [
      "1) Testing\n",
      "2) Second line\n",
      "3) Third line\n",
      "4) Fourth line\n",
      "5) Fifth line\n",
      "\n",
      "Executing Finally, this will always run...\n"
     ]
    }
   ],
   "source": [
    "try:\n",
    "    f = open('sample_copy.txt')\n",
    "    if f.name == 'sample_copy.txt':\n",
    "        raise Exception # raise exception manually here\n",
    "except FileNotFoundError as e: \n",
    "    print(e)\n",
    "except Exception as e: \n",
    "    print('Error!')\n",
    "else: \n",
    "    print(f.read())\n",
    "    f.close()\n",
    "finally: \n",
    "    print(\"Executing Finally, this will always run...\")"
   ]
  },
  {
   "cell_type": "code",
   "execution_count": 13,
   "metadata": {},
   "outputs": [
    {
     "name": "stdout",
     "output_type": "stream",
     "text": [
      "2\n"
     ]
    }
   ],
   "source": [
    "def find_index(to_search, target): # else clauses on loops \n",
    "    for i, value in enumerate(to_search, start=1): # 'start=1' start counting from 1 instead of 0\n",
    "        if value == target:\n",
    "            break\n",
    "    else: # this means 'if there's no break in the loop' run this block of code\n",
    "        return -1\n",
    "    return i\n",
    "\n",
    "my_list = ['Mike', 'Rick', 'Ken']\n",
    "\n",
    "print(find_index(my_list, 'Rick'))\n",
    "            \n",
    "        \n",
    "        "
   ]
  }
 ],
 "metadata": {
  "kernelspec": {
   "display_name": "Python 3",
   "language": "python",
   "name": "python3"
  },
  "language_info": {
   "codemirror_mode": {
    "name": "ipython",
    "version": 3
   },
   "file_extension": ".py",
   "mimetype": "text/x-python",
   "name": "python",
   "nbconvert_exporter": "python",
   "pygments_lexer": "ipython3",
   "version": "3.7.5"
  }
 },
 "nbformat": 4,
 "nbformat_minor": 4
}
