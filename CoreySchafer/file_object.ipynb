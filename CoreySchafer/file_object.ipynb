{
 "cells": [
  {
   "cell_type": "code",
   "execution_count": 2,
   "metadata": {},
   "outputs": [
    {
     "name": "stdout",
     "output_type": "stream",
     "text": [
      "sample.txt\n",
      "r\n"
     ]
    }
   ],
   "source": [
    "f = open('sample.txt', 'r') # mode=r, w, a, r+, w+\n",
    "print(f.name)\n",
    "print(f.mode)\n",
    "f.close()"
   ]
  },
  {
   "cell_type": "code",
   "execution_count": 24,
   "metadata": {},
   "outputs": [
    {
     "name": "stdout",
     "output_type": "stream",
     "text": [
      "1) Testing\n",
      "2) Second\n"
     ]
    }
   ],
   "source": [
    "with open('sample.txt', 'r') as f:\n",
    "#     f_contents = f.read() # read the whole file\n",
    "#     f_contents = f.read(20) # read first 20 characters in the file\n",
    "#     f_contents = f.readline() # read one line at a time\n",
    "#     f_contents = f.readlines() # read whole file and put into a list\n",
    "#     print(f_contents)\n",
    "    \n",
    "#     f_contents = f.readline()\n",
    "#     print(f_contents, end='')\n",
    "#     f_contents = f.readline()\n",
    "#     print(f_contents, end='')\n",
    "\n",
    "#     for line in f:\n",
    "#         print(line, end='')\n",
    "        \n",
    "    \n",
    "    \n",
    "    \n",
    "\n",
    "    "
   ]
  },
  {
   "cell_type": "code",
   "execution_count": 26,
   "metadata": {
    "scrolled": true
   },
   "outputs": [
    {
     "name": "stdout",
     "output_type": "stream",
     "text": [
      "1) Testing\n",
      "2) Second* line\n",
      "3) Third line\n",
      "*4) Fourth line\n",
      "5) Fi*fth line\n",
      "*"
     ]
    }
   ],
   "source": [
    "with open('sample.txt', 'r') as f:\n",
    "    size_to_read = 20\n",
    "    f_contents = f.read(size_to_read)\n",
    "    while len(f_contents) > 0: # read small chunks of characters at a time in while loop\n",
    "        print(f_contents, end='*') # * shows 20 characters at a time\n",
    "        f_contents = f.read(size_to_read)\n",
    "        "
   ]
  },
  {
   "cell_type": "code",
   "execution_count": 29,
   "metadata": {},
   "outputs": [
    {
     "name": "stdout",
     "output_type": "stream",
     "text": [
      "1) Testing\n",
      "2) Second\n",
      "1) Testing\n",
      "2) Second\n"
     ]
    }
   ],
   "source": [
    "with open('sample.txt', 'r') as f:\n",
    "    size_to_read = 20\n",
    "    f_contents = f.read(size_to_read)\n",
    "    print(f_contents, end='\\n')\n",
    "    f.seek(0) # f.seek(0) go back to the start of file\n",
    "    f_contents = f.read(size_to_read)\n",
    "    print(f_contents)"
   ]
  },
  {
   "cell_type": "code",
   "execution_count": 30,
   "metadata": {},
   "outputs": [],
   "source": [
    "with open('sample.txt', 'r') as rf: # copy 'sample.txt' to 'sample_copy.txt' by one line at a time\n",
    "    with open('sample_copy.txt', 'w') as wf:\n",
    "        for line in rf:\n",
    "            wf.write(line)"
   ]
  },
  {
   "cell_type": "code",
   "execution_count": 31,
   "metadata": {},
   "outputs": [],
   "source": [
    "with open('lake.jpg', 'rb') as rf: # copy 'lake.jpg' to 'lake_copy.jpg' by one line at a time\n",
    "    with open('lake_copy.jpg', 'wb') as wf:\n",
    "        for line in rf:\n",
    "            wf.write(line)"
   ]
  },
  {
   "cell_type": "code",
   "execution_count": 33,
   "metadata": {},
   "outputs": [],
   "source": [
    "with open('lake.jpg', 'rb') as rf: # copy 'lake.jpg' to 'lake_copy.jpg' by defined chunk size at a time\n",
    "    with open('lake_copy1.jpg', 'wb') as wf:\n",
    "        chunk_size = 4096\n",
    "        rf_chunk = rf.read(chunk_size)\n",
    "        while len(rf_chunk) > 0:\n",
    "            wf.write(rf_chunk)\n",
    "            rf_chunk = rf.read(chunk_size)"
   ]
  },
  {
   "cell_type": "code",
   "execution_count": null,
   "metadata": {},
   "outputs": [],
   "source": [
    "def decorator_function(original_function):\n",
    "    def wrapper_function(*args, **kwargs): # allow function to take in arbitary number of arguments\n",
    "        print(f\"wrapper executed this before {original_function.__name__}\")\n",
    "        return original_function(*args, **kwargs)\n",
    "    return wrapper_function\n"
   ]
  }
 ],
 "metadata": {
  "kernelspec": {
   "display_name": "Python 3",
   "language": "python",
   "name": "python3"
  },
  "language_info": {
   "codemirror_mode": {
    "name": "ipython",
    "version": 3
   },
   "file_extension": ".py",
   "mimetype": "text/x-python",
   "name": "python",
   "nbconvert_exporter": "python",
   "pygments_lexer": "ipython3",
   "version": "3.7.5"
  }
 },
 "nbformat": 4,
 "nbformat_minor": 4
}
