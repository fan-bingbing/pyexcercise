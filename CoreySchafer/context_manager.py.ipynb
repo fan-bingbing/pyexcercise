{
 "cells": [
  {
   "cell_type": "code",
   "execution_count": 1,
   "metadata": {},
   "outputs": [
    {
     "name": "stdout",
     "output_type": "stream",
     "text": [
      "True\n"
     ]
    }
   ],
   "source": [
    "class Open_File():\n",
    "    \n",
    "    def __init__(self, filename, mode):\n",
    "        self.filename = filename\n",
    "        self.mode = mode\n",
    "        \n",
    "    def __enter__(self):\n",
    "        self.file = open(self.filename, self.mode)\n",
    "        return self.file\n",
    "    \n",
    "    def __exit__(self, exc_type, exc_val, traceback):\n",
    "        self.file.close()\n",
    "        \n",
    "with Open_File('sample.txt', 'w') as f:\n",
    "    f.write(\"Testing\")\n",
    "    \n",
    "print(f.closed)"
   ]
  },
  {
   "cell_type": "code",
   "execution_count": null,
   "metadata": {},
   "outputs": [],
   "source": [
    "rm = pyvisa.ResourceManager()\n",
    "rm.list_resources()"
   ]
  },
  {
   "cell_type": "code",
   "execution_count": 9,
   "metadata": {},
   "outputs": [
    {
     "name": "stdout",
     "output_type": "stream",
     "text": [
      "Rohde&Schwarz,FSV-4,1321.3008K04/101697,2.30 SP1\n",
      "\n"
     ]
    }
   ],
   "source": [
    "from contextlib import contextmanager\n",
    "import visa\n",
    "\n",
    "@contextmanager # so in open_resource object it has __enter__() magic function now\n",
    "def open_resource(address):\n",
    "    rm = visa.ResourceManager()\n",
    "    try:\n",
    "        inst = rm.open_resource(address)\n",
    "        yield inst\n",
    "    finally:\n",
    "        inst.close()\n",
    "        \n",
    "with open_resource('TCPIP0::10.0.22.48::inst0::INSTR') as r:\n",
    "    print(r.query(\"*IDN?\"))\n",
    "        \n"
   ]
  },
  {
   "cell_type": "code",
   "execution_count": 7,
   "metadata": {},
   "outputs": [
    {
     "name": "stdout",
     "output_type": "stream",
     "text": [
      "Rohde&Schwarz,FSV-4,1321.3008K04/101697,2.30 SP1\n",
      "\n"
     ]
    }
   ],
   "source": [
    "class Spec_An():\n",
    "    \n",
    "    rm = visa.ResourceManager()\n",
    "    \n",
    "    def __init__(self, address):\n",
    "        self.address = address\n",
    "        \n",
    "        \n",
    "    def __enter__(self):\n",
    "        self.inst = self.rm.open_resource(self.address)\n",
    "        return self.inst\n",
    "    \n",
    "    def __exit__(self, exc_type, exc_val, traceback):\n",
    "        self.inst.close()\n",
    "        \n",
    "with Spec_An('TCPIP0::10.0.22.48::inst0::INSTR') as r:\n",
    "    print(r.query(\"*IDN?\"))"
   ]
  }
 ],
 "metadata": {
  "kernelspec": {
   "display_name": "Python 3",
   "language": "python",
   "name": "python3"
  },
  "language_info": {
   "codemirror_mode": {
    "name": "ipython",
    "version": 3
   },
   "file_extension": ".py",
   "mimetype": "text/x-python",
   "name": "python",
   "nbconvert_exporter": "python",
   "pygments_lexer": "ipython3",
   "version": "3.7.5"
  }
 },
 "nbformat": 4,
 "nbformat_minor": 4
}
