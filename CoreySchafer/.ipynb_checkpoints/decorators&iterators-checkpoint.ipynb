{
 "cells": [
  {
   "cell_type": "code",
   "execution_count": 19,
   "metadata": {},
   "outputs": [
    {
     "name": "stdout",
     "output_type": "stream",
     "text": [
      "some extra code, before the original function\n",
      "I want to be decorated!\n",
      "some extra code, before the original function\n"
     ]
    }
   ],
   "source": [
    "def func_needs_decorator():\n",
    "    print(\"I want to be decorated!\")\n",
    "    \n",
    "def new_decorator(original_func):\n",
    "    def wrap_func():\n",
    "        print(\"some extra code, before the original function\")\n",
    "        original_func()\n",
    "        print(\"some extra code, before the original function\")\n",
    "    return wrap_func\n",
    "\n",
    "decorated_func = new_decorator(func_needs_decorator)\n",
    "\n",
    "decorated_func()"
   ]
  },
  {
   "cell_type": "code",
   "execution_count": 4,
   "metadata": {},
   "outputs": [
    {
     "name": "stdout",
     "output_type": "stream",
     "text": [
      "some extra code, before the original function\n",
      "I want to be decorated!\n",
      "some extra code, before the original function\n"
     ]
    }
   ],
   "source": [
    "@new_decorator\n",
    "def func_needs_decorator():\n",
    "    print(\"I want to be decorated!\")\n",
    "    \n",
    "func_needs_decorator()"
   ]
  },
  {
   "cell_type": "code",
   "execution_count": 1,
   "metadata": {},
   "outputs": [
    {
     "name": "stdout",
     "output_type": "stream",
     "text": [
      "wrapper executed this before display_info\n",
      "display_info ran with arguments (John, 25)\n"
     ]
    }
   ],
   "source": [
    "\n",
    "\n",
    "def decorator_function(original_function):\n",
    "    def wrapper_function(*args, **kwargs): # allow function to take in arbitary number of arguments\n",
    "        print(f\"wrapper executed this before {original_function.__name__}\")\n",
    "        return original_function(*args, **kwargs)\n",
    "    return wrapper_function\n",
    "\n",
    "\n",
    "class decorator_class(): # rewrite decorator as a class doing same thing\n",
    "    \n",
    "    def __init__(self, original_function):\n",
    "        self.original_function = original_function\n",
    "        \n",
    "    def __call__(self, *args, **kwargs):\n",
    "        print(f\"wrapper executed this before {self.original_function.__name__}\")\n",
    "        return self.original_function(*args, **kwargs)\n",
    "\n",
    "# @decorator_function\n",
    "# def display():\n",
    "#     print('display function ran')\n",
    "    \n",
    "@decorator_function # decorator function can take arguments as well!\n",
    "def display_info(name, age):\n",
    "    print(f\"display_info ran with arguments ({name}, {age})\")\n",
    "    \n",
    "# @decorator_class\n",
    "# def display_info(name, age):\n",
    "#     print(f\"display_info ran with arguments ({name}, {age})\")\n",
    "    \n",
    "display_info('John', 25)\n",
    "    \n",
    "# display()"
   ]
  },
  {
   "cell_type": "code",
   "execution_count": 10,
   "metadata": {
    "scrolled": true
   },
   "outputs": [
    {
     "name": "stdout",
     "output_type": "stream",
     "text": [
      "0\n",
      "1\n",
      "8\n",
      "27\n",
      "64\n",
      "125\n",
      "216\n",
      "343\n",
      "512\n",
      "729\n",
      "[0, 1, 8, 27, 64, 125, 216, 343, 512, 729]\n"
     ]
    }
   ],
   "source": [
    "def create_cubes1(n):\n",
    "    result = []\n",
    "    for x in range(n):\n",
    "        result.append(x**3)\n",
    "    return result\n",
    "\n",
    "for x in create_cubes1(10):\n",
    "    print(x)\n",
    "    \n",
    "print(list(create_cubes1(10)))"
   ]
  },
  {
   "cell_type": "code",
   "execution_count": 9,
   "metadata": {
    "scrolled": true
   },
   "outputs": [
    {
     "name": "stdout",
     "output_type": "stream",
     "text": [
      "0\n",
      "1\n",
      "8\n",
      "27\n",
      "64\n",
      "125\n",
      "216\n",
      "343\n",
      "512\n",
      "729\n",
      "[0, 1, 8, 27, 64, 125, 216, 343, 512, 729]\n"
     ]
    }
   ],
   "source": [
    "def create_cubes2(n): # yield keyword makes it a generator\n",
    "    for x in range(n):\n",
    "        yield x**3\n",
    "        \n",
    "for x in create_cubes2(10):\n",
    "    print(x)\n",
    "    \n",
    "print(list(create_cubes2(10)))"
   ]
  },
  {
   "cell_type": "code",
   "execution_count": 20,
   "metadata": {
    "scrolled": true
   },
   "outputs": [
    {
     "name": "stdout",
     "output_type": "stream",
     "text": [
      "h\n",
      "e\n",
      "l\n",
      "l\n",
      "o\n"
     ]
    }
   ],
   "source": [
    "s = 'hello'\n",
    "s_iter = iter(s)\n",
    "\n",
    "for letter in s_iter:\n",
    "    print(letter)\n",
    "# print(next(s_iter))\n",
    "# print(next(s_iter))\n",
    "\n"
   ]
  },
  {
   "cell_type": "code",
   "execution_count": 6,
   "metadata": {
    "scrolled": true
   },
   "outputs": [
    {
     "name": "stdout",
     "output_type": "stream",
     "text": [
      "['__add__', '__class__', '__contains__', '__delattr__', '__delitem__', '__dir__', '__doc__', '__eq__', '__format__', '__ge__', '__getattribute__', '__getitem__', '__gt__', '__hash__', '__iadd__', '__imul__', '__init__', '__init_subclass__', '__iter__', '__le__', '__len__', '__lt__', '__mul__', '__ne__', '__new__', '__reduce__', '__reduce_ex__', '__repr__', '__reversed__', '__rmul__', '__setattr__', '__setitem__', '__sizeof__', '__str__', '__subclasshook__', 'append', 'clear', 'copy', 'count', 'extend', 'index', 'insert', 'pop', 'remove', 'reverse', 'sort']\n",
      "['__class__', '__delattr__', '__dir__', '__doc__', '__eq__', '__format__', '__ge__', '__getattribute__', '__gt__', '__hash__', '__init__', '__init_subclass__', '__iter__', '__le__', '__length_hint__', '__lt__', '__ne__', '__new__', '__next__', '__reduce__', '__reduce_ex__', '__repr__', '__setattr__', '__setstate__', '__sizeof__', '__str__', '__subclasshook__']\n",
      "1\n",
      "2\n",
      "3\n"
     ]
    }
   ],
   "source": [
    "nums = [1, 2, 3]\n",
    "i_nums = iter(nums) # the same as i_nums = nums.__iter__()\n",
    "\n",
    "print(dir(nums)) # iterables has __iter__ method\n",
    "print(dir(i_nums)) # iterators has __next__method, it remembers where where they left off and can be exhausted rasing StopIteration exception\n",
    "\n",
    "print(next(i_nums)) #\n",
    "print(next(i_nums)) #\n",
    "print(next(i_nums)) #\n",
    "\n",
    "\n",
    "\n"
   ]
  },
  {
   "cell_type": "code",
   "execution_count": 7,
   "metadata": {},
   "outputs": [
    {
     "name": "stdout",
     "output_type": "stream",
     "text": [
      "1\n",
      "2\n",
      "3\n"
     ]
    }
   ],
   "source": [
    "nums = [1, 2, 3]\n",
    "i_nums = iter(nums)\n",
    "\n",
    "while True:\n",
    "    try:\n",
    "        value = next(i_nums)\n",
    "        print(value)\n",
    "    except StopIteration:\n",
    "        break"
   ]
  },
  {
   "cell_type": "code",
   "execution_count": 18,
   "metadata": {
    "scrolled": false
   },
   "outputs": [
    {
     "name": "stdout",
     "output_type": "stream",
     "text": [
      "1\n",
      "2\n",
      "3\n",
      "4\n"
     ]
    }
   ],
   "source": [
    "class MyRange():\n",
    "    \n",
    "    def __init__(self, start, end):\n",
    "        self.start = start\n",
    "        self.end = end\n",
    "        \n",
    "    def __iter__(self): # so it is an iterable now\n",
    "        return self\n",
    "    \n",
    "    def __next__(self): # so it is an iterator now, access element in container one at a time\n",
    "        if self.start >= self.end:\n",
    "            raise StopIteration\n",
    "        current = self.start\n",
    "        self.start += 1\n",
    "        return current\n",
    "\n",
    "# nums = MyRange(1, 10)\n",
    "\n",
    "\n",
    "\n",
    "\n",
    "def my_range(start, end): # it is a generator, a special kind of iterator, more readable than iterator class\n",
    "    current = start\n",
    "    while current < end: # it can also yielding values infinitely\n",
    "        yield current # access element in container one at a time\n",
    "        current += 1\n",
    "        \n",
    "nums = my_range(1, 10)\n",
    "        \n",
    "\n",
    "print(next(nums))\n",
    "print(next(nums))\n",
    "print(next(nums))\n",
    "print(next(nums))\n",
    "\n",
    "# for num in nums:\n",
    "#     print(num)\n",
    "#iterator and generator are much nore memory efficient than iterables\n"
   ]
  },
  {
   "cell_type": "code",
   "execution_count": 20,
   "metadata": {
    "scrolled": false
   },
   "outputs": [
    {
     "name": "stdout",
     "output_type": "stream",
     "text": [
      "5\n",
      "4.75\n",
      "4.5\n",
      "4.25\n",
      "4.0\n"
     ]
    }
   ],
   "source": [
    "\n",
    "    \n"
   ]
  },
  {
   "cell_type": "code",
   "execution_count": null,
   "metadata": {},
   "outputs": [],
   "source": [
    "# first class function: treat functions like any other objects\n",
    "# closure: return a inner function that remembers and has access to variables local to the scope in which they were created\n",
    "# decorator: a function that takes another function as argument, add functionality, returns another function. \n",
    "\n",
    "\n",
    "\n",
    "\n"
   ]
  },
  {
   "cell_type": "code",
   "execution_count": 17,
   "metadata": {},
   "outputs": [
    {
     "name": "stdout",
     "output_type": "stream",
     "text": [
      "Memory usage: 32.12890625Mb\n",
      "Took: 0.10108199099977355 Seconds\n"
     ]
    }
   ],
   "source": [
    "t1 = time.perf_counter()\n",
    "\n",
    "import memory_profiler as mem_profile\n",
    "import random\n",
    "import time\n",
    "print(f\"Memory usage: {mem_profile.memory_usage()[0]}Mb\")\n",
    "\n",
    "t2 = time.perf_counter()\n",
    "\n",
    "print(f\"Took: {t2 - t1} Seconds\")\n"
   ]
  },
  {
   "cell_type": "code",
   "execution_count": null,
   "metadata": {},
   "outputs": [],
   "source": []
  }
 ],
 "metadata": {
  "kernelspec": {
   "display_name": "Python 3",
   "language": "python",
   "name": "python3"
  },
  "language_info": {
   "codemirror_mode": {
    "name": "ipython",
    "version": 3
   },
   "file_extension": ".py",
   "mimetype": "text/x-python",
   "name": "python",
   "nbconvert_exporter": "python",
   "pygments_lexer": "ipython3",
   "version": "3.7.5"
  }
 },
 "nbformat": 4,
 "nbformat_minor": 2
}
