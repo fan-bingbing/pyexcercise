{
 "cells": [
  {
   "cell_type": "code",
   "execution_count": 9,
   "metadata": {
    "scrolled": true
   },
   "outputs": [
    {
     "name": "stdout",
     "output_type": "stream",
     "text": [
      "55\n",
      "255\n"
     ]
    }
   ],
   "source": [
    "from collections import namedtuple # something between tuple and dictionary, more readable and useful\n",
    "\n",
    "Color = namedtuple('Color', ['red', 'green', 'blue']) # define a namedtuple\n",
    "\n",
    "color = Color(55, 155, 255) # assign a new namedtuple to variable 'color'\n",
    "white = Color(255, 255, 255)\n",
    "\n",
    "print (color.red) \n",
    "print(white.blue)"
   ]
  },
  {
   "cell_type": "code",
   "execution_count": 10,
   "metadata": {},
   "outputs": [
    {
     "name": "stdout",
     "output_type": "stream",
     "text": [
      "1\n"
     ]
    }
   ],
   "source": [
    "# better code\n",
    "\n",
    "condition = True\n",
    "x = 1 if condition else 0\n",
    "print(x)\n"
   ]
  },
  {
   "cell_type": "code",
   "execution_count": 13,
   "metadata": {},
   "outputs": [
    {
     "name": "stdout",
     "output_type": "stream",
     "text": [
      "10,100,000,000\n"
     ]
    }
   ],
   "source": [
    "# better code\n",
    "num1 = 10_000_000_000\n",
    "num2 = 100_000_000\n",
    "\n",
    "total = num1 + num2\n",
    "\n",
    "print(f'{total:,}') # format numbers presentation\n"
   ]
  },
  {
   "cell_type": "code",
   "execution_count": 2,
   "metadata": {},
   "outputs": [],
   "source": [
    "# a, _ = (1, 2) # unpacking tuple, second one won't be used \n",
    "\n",
    "\n",
    "\n",
    "# a, b, *c = (1,2,3,4,5) # unpacking tuple, c will hold [3,4,5]\n",
    "# a, b, *_ = (1,2,3,4,5) # unpacking tuple, ignore 3,4,5\n",
    "# a, b, *c, d = (1,2,3,4,5) # unpacking, c will hold [3,4], d will hold 5\n",
    "\n",
    "# print(a)\n",
    "# print(b)\n",
    "# print(c)\n",
    "# print(d)"
   ]
  },
  {
   "cell_type": "code",
   "execution_count": 5,
   "metadata": {},
   "outputs": [
    {
     "name": "stdout",
     "output_type": "stream",
     "text": [
      "john\n"
     ]
    }
   ],
   "source": [
    "class Person():\n",
    "    pass\n",
    "\n",
    "person = Person()\n",
    "\n",
    "first_key = 'first'\n",
    "first_value = 'john'\n",
    "\n",
    "setattr(person, 'first', 'john')# set object attribute named 'first'\n",
    "\n",
    "print(person.first)\n",
    "\n",
    "\n",
    "# setattr(person, first_key, first_value) # use varible in setattr and getattr\n",
    "# print(getattr(person, first_key))"
   ]
  },
  {
   "cell_type": "code",
   "execution_count": 6,
   "metadata": {},
   "outputs": [
    {
     "name": "stdout",
     "output_type": "stream",
     "text": [
      "Username: haha\n",
      "Password: ········\n",
      "Logging In...\n"
     ]
    }
   ],
   "source": [
    "from getpass import getpass\n",
    "username = input('Username: ')\n",
    "password = getpass('Password: ')\n",
    "print('Logging In...')"
   ]
  },
  {
   "cell_type": "code",
   "execution_count": null,
   "metadata": {},
   "outputs": [],
   "source": [
    "# get help from certain modules and functions\n",
    "# in python shell run help() or dir()\n",
    "# e.g: help(datetime) for full documentation\n",
    "# e.g: dir(datetime) for listing attributes and methods that are available \n",
    "\n"
   ]
  }
 ],
 "metadata": {
  "kernelspec": {
   "display_name": "Python 3",
   "language": "python",
   "name": "python3"
  },
  "language_info": {
   "codemirror_mode": {
    "name": "ipython",
    "version": 3
   },
   "file_extension": ".py",
   "mimetype": "text/x-python",
   "name": "python",
   "nbconvert_exporter": "python",
   "pygments_lexer": "ipython3",
   "version": "3.7.5"
  }
 },
 "nbformat": 4,
 "nbformat_minor": 4
}
