{
 "cells": [
  {
   "cell_type": "code",
   "execution_count": 7,
   "metadata": {},
   "outputs": [
    {
     "name": "stdout",
     "output_type": "stream",
     "text": [
      "[(0, 100), (1, 200), (2, 300), (3, 400), (4, None), (5, None), (6, None), (7, None), (8, None), (9, None)]\n"
     ]
    }
   ],
   "source": [
    "import itertools # a useful build-in iterator module\n",
    "\n",
    "# counter = itertools.count()\n",
    "\n",
    "data = [100, 200, 300, 400]\n",
    "\n",
    "daily_data = list(zip(itertools.count(), data))\n",
    "\n",
    "# daily_data = list(zip(range(10), data)) # zip according to shortest list\n",
    "daily_data = list(itertools.zip_longest(range(10), data)) # zip according to longest list\n",
    "\n",
    "                  \n",
    "print(daily_data)"
   ]
  },
  {
   "cell_type": "code",
   "execution_count": 5,
   "metadata": {
    "scrolled": true
   },
   "outputs": [
    {
     "name": "stdout",
     "output_type": "stream",
     "text": [
      "5\n",
      "4.75\n",
      "4.5\n",
      "4.25\n",
      "4.0\n"
     ]
    }
   ],
   "source": [
    "counter = itertools.count(start=5, step=-0.25)\n",
    "for _ in range(5):\n",
    "    print(next(counter))"
   ]
  },
  {
   "cell_type": "code",
   "execution_count": 10,
   "metadata": {},
   "outputs": [
    {
     "name": "stdout",
     "output_type": "stream",
     "text": [
      "2\n",
      "2\n",
      "2\n",
      "2\n",
      "2\n",
      "2\n"
     ]
    }
   ],
   "source": [
    "# counter = itertools.cycle([1,2,3])\n",
    "# counter = itertools.repeat(2)\n",
    "counter = itertools.cycle(('On', 'Off'))\n",
    "for _ in range(6):\n",
    "    print(next(counter))"
   ]
  },
  {
   "cell_type": "code",
   "execution_count": 18,
   "metadata": {},
   "outputs": [
    {
     "name": "stdout",
     "output_type": "stream",
     "text": [
      "[0, 1, 4, 9, 16, 25, 36, 49, 64, 81]\n"
     ]
    }
   ],
   "source": [
    "squares = map(pow, range(10), itertools.repeat(2))\n",
    "print(list(squares))\n",
    "\n",
    "# squares = map(lambda x:x**2, range(10))\n",
    "# print(list(squares))"
   ]
  }
 ],
 "metadata": {
  "kernelspec": {
   "display_name": "Python 3",
   "language": "python",
   "name": "python3"
  },
  "language_info": {
   "codemirror_mode": {
    "name": "ipython",
    "version": 3
   },
   "file_extension": ".py",
   "mimetype": "text/x-python",
   "name": "python",
   "nbconvert_exporter": "python",
   "pygments_lexer": "ipython3",
   "version": "3.7.5"
  }
 },
 "nbformat": 4,
 "nbformat_minor": 4
}
