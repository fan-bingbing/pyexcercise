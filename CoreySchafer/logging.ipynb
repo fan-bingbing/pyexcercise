{
 "cells": [
  {
   "cell_type": "code",
   "execution_count": 4,
   "metadata": {},
   "outputs": [],
   "source": [
    "import logging\n",
    "\n",
    "logging.basicConfig(filename='employee.log', level = logging.INFO,\n",
    "                   format = '%(levelname)s:%(message)s')\n",
    "\n",
    "'''\n",
    "level of loggings:\n",
    "\n",
    "DEBUG\n",
    "INFO\n",
    "WARNING*(by default, it shows WARNING and higher, including ERROR, CRITICAL)\n",
    "ERROR\n",
    "CRITICAL\n",
    "\n",
    "'''\n",
    "\n",
    "class Employee():\n",
    "    \n",
    "    def __init__(self, first, last):\n",
    "        self.first = first\n",
    "        self.last = last\n",
    "        logging.info(f\"Created Employees: {self.fullname} - {self.email}\")\n",
    "        \n",
    "    def email(self):\n",
    "        return (f\"{self.first}.{self.last}@email.com\")\n",
    "    \n",
    "    def fullname(self):\n",
    "        return (f\"{self.first} {self.last}\")\n",
    "    \n",
    "emp_1 = Employee('John', 'Smith')\n",
    "emp_1 = Employee('Mike', 'Surner')\n",
    "emp_1 = Employee('Jane', 'Doe')\n"
   ]
  },
  {
   "cell_type": "code",
   "execution_count": 7,
   "metadata": {},
   "outputs": [
    {
     "name": "stdout",
     "output_type": "stream",
     "text": [
      "display_info ran with arguments (John, 25)\n"
     ]
    }
   ],
   "source": [
    "def my_logger(orig_func):# a decorator to create log for recording func name and argument being passed into\n",
    "    import logging\n",
    "    logging.basicConfig(filename=f\"{orig_func.__name__}.log\", level=logging.INFO)\n",
    "    \n",
    "    def wrapper(*args, **kwargs):\n",
    "        logging.info(f\"Ran with args:{args}, and kwargs{kwargs}\")\n",
    "        return orig_func(*args, **kwargs)\n",
    "    return wrapper\n",
    "\n",
    "\n",
    "def my_timer(orig_func):\n",
    "    import time\n",
    "    \n",
    "    def wrapper(*args, **kwargs):\n",
    "        t1 = time.time()\n",
    "        result = orig_func(*args, **kwargs)\n",
    "        t2 = time.time() - t1\n",
    "        print(f\"{orig_func.__name__} ran in {t2} sec\")\n",
    "        return result\n",
    "    return wrapper\n",
    "\n",
    "@my_logger\n",
    "def display_info(name, age):\n",
    "    print(f\"display_info ran with arguments ({name}, {age})\")\n",
    "    \n",
    "@my_timer\n",
    "def display_info(name, age):\n",
    "    print(f\"display_info ran with arguments ({name}, {age})\")\n",
    "    \n",
    "display_info('John', 25)"
   ]
  }
 ],
 "metadata": {
  "kernelspec": {
   "display_name": "Python 3",
   "language": "python",
   "name": "python3"
  },
  "language_info": {
   "codemirror_mode": {
    "name": "ipython",
    "version": 3
   },
   "file_extension": ".py",
   "mimetype": "text/x-python",
   "name": "python",
   "nbconvert_exporter": "python",
   "pygments_lexer": "ipython3",
   "version": "3.7.5"
  }
 },
 "nbformat": 4,
 "nbformat_minor": 4
}
