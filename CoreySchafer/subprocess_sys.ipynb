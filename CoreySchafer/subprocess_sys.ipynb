{
 "cells": [
  {
   "cell_type": "code",
   "execution_count": 4,
   "metadata": {},
   "outputs": [
    {
     "name": "stdout",
     "output_type": "stream",
     "text": [
      "c:\\anaconda3\\python.exe\n",
      "b'C:\\\\Users\\\\afan\\\\bin;C:\\\\Program Files\\\\Git\\\\mingw64\\\\bin;C:\\\\Program Files\\\\Git\\\\usr\\\\local\\\\bin;C:\\\\Program Files\\\\Git\\\\usr\\\\bin;C:\\\\Program Files\\\\Git\\\\usr\\\\bin;C:\\\\Program Files\\\\Git\\\\mingw64\\\\bin;C:\\\\Program Files\\\\Git\\\\usr\\\\bin;C:\\\\Users\\\\afan\\\\bin;C:\\\\ProgramData\\\\DockerDesktop\\\\version-bin;C:\\\\Program Files\\\\Docker\\\\Docker\\\\Resources\\\\bin;C:\\\\Anaconda3;C:\\\\Anaconda3\\\\Library\\\\mingw-w64\\\\bin;C:\\\\Anaconda3\\\\Library\\\\usr\\\\bin;C:\\\\Anaconda3\\\\Library\\\\bin;C:\\\\Anaconda3\\\\Scripts;C:\\\\KRMMwork\\\\Bin;C:\\\\Windows\\\\system32;C:\\\\Windows;C:\\\\Windows\\\\System32\\\\Wbem;C:\\\\Windows\\\\System32\\\\WindowsPowerShell\\\\v1.0;C:\\\\Windows\\\\System32\\\\OpenSSH;C:\\\\Program Files\\\\IVI Foundation\\\\VISA\\\\Win64\\\\Bin;C:\\\\Program Files\\\\PuTTY;C:\\\\Program Files (x86)\\\\IVI Foundation\\\\VISA\\\\WinNT\\\\Bin;C:\\\\Program Files\\\\Git\\\\cmd;C:\\\\Program Files\\\\Pandoc;C:\\\\MiKTeX 2.9\\\\miktex\\\\bin\\\\x64;C:\\\\Program Files (x86)\\\\Brackets\\\\command;C:\\\\Program Files (x86)\\\\IVI Foundation\\\\VISA\\\\WinNT\\\\Bin;C:\\\\Program Files\\\\IVI Foundation\\\\VISA\\\\Win64\\\\Bin;C:\\\\sqlite3;C:\\\\Program Files\\\\Java\\\\jdk-13.0.1\\\\bin;C:\\\\Users\\\\afan\\\\AppData\\\\Local\\\\Microsoft\\\\WindowsApps;C:\\\\Users\\\\afan\\\\AppData\\\\Local\\\\atom\\\\bin;C:\\\\MiKTeX 2.9\\\\miktex\\\\bin\\\\x64;C:\\\\Program Files\\\\Git\\\\usr\\\\bin\\\\vendor_perl;C:\\\\Program Files\\\\Git\\\\usr\\\\bin\\\\core_perl\\r\\n'\n"
     ]
    }
   ],
   "source": [
    "import sys\n",
    "import subprocess\n",
    "\n",
    "print(sys.executable) # check current python interpreter location\n",
    "sys.version\n",
    "\n",
    "p1 = subprocess.run(\"echo %path%\", shell=True, capture_output=True) # run script on shell using python\n",
    "\n",
    "p2 = subprocess.run(\"pip show django\", shell=True, capture_output=True) # run script on shell using python\n",
    "\n",
    "print(p1.stdout) # check environment variable PATH\n",
    "# print(p2.stdout) # check certain package location"
   ]
  },
  {
   "cell_type": "code",
   "execution_count": 3,
   "metadata": {},
   "outputs": [
    {
     "name": "stdout",
     "output_type": "stream",
     "text": [
      "['C:\\\\Users\\\\afan\\\\Documents\\\\pyexercise\\\\CoreySchafer', 'c:\\\\anaconda3\\\\python37.zip', 'c:\\\\anaconda3\\\\DLLs', 'c:\\\\anaconda3\\\\lib', 'c:\\\\anaconda3', '', 'C:\\\\Users\\\\afan\\\\AppData\\\\Roaming\\\\Python\\\\Python37\\\\site-packages', 'c:\\\\anaconda3\\\\lib\\\\site-packages', 'c:\\\\anaconda3\\\\lib\\\\site-packages\\\\win32', 'c:\\\\anaconda3\\\\lib\\\\site-packages\\\\win32\\\\lib', 'c:\\\\anaconda3\\\\lib\\\\site-packages\\\\Pythonwin', 'c:\\\\anaconda3\\\\lib\\\\site-packages\\\\IPython\\\\extensions', 'C:\\\\Users\\\\afan\\\\.ipython']\n"
     ]
    }
   ],
   "source": [
    "print(sys.path) # when importing a module, this is the path to look for \n",
    "\n",
    "# sys.path.append('path\\\\that\\\\you\\\\want\\\\to\\\\add') # add path manually, not a good way"
   ]
  }
 ],
 "metadata": {
  "kernelspec": {
   "display_name": "Python 3",
   "language": "python",
   "name": "python3"
  },
  "language_info": {
   "codemirror_mode": {
    "name": "ipython",
    "version": 3
   },
   "file_extension": ".py",
   "mimetype": "text/x-python",
   "name": "python",
   "nbconvert_exporter": "python",
   "pygments_lexer": "ipython3",
   "version": "3.7.5"
  }
 },
 "nbformat": 4,
 "nbformat_minor": 4
}
