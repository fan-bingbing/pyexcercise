{
 "cells": [
  {
   "cell_type": "code",
   "execution_count": 6,
   "metadata": {
    "scrolled": false
   },
   "outputs": [
    {
     "name": "stdout",
     "output_type": "stream",
     "text": [
      "['first_name', 'last_name', 'email']\n",
      "['John', 'Doe', 'john-doe@gmail.com']\n",
      "['Mary', 'Smith-Robinson', 'mary@gmail.com']\n",
      "['Dave', 'Smith', 'davesmith@gmail.com']\n",
      "['Jane', 'Stuart', 'janestuart@gmail.com']\n",
      "['Tom', 'Wright', 'tomwright@gmail.com']\n"
     ]
    }
   ],
   "source": [
    "import csv\n",
    "\n",
    "with open('name.csv', 'r') as csv_file: # read content from a csv file\n",
    "    csv_reader = csv.reader(csv_file, delimiter='\\t' )\n",
    "    \n",
    "#     next(csv_reader) # use generotor next() method to remove fields\n",
    "    \n",
    "    for line in csv_reader:\n",
    "        print(line)\n",
    "\n"
   ]
  },
  {
   "cell_type": "code",
   "execution_count": 7,
   "metadata": {},
   "outputs": [],
   "source": [
    "with open('name.csv', 'r') as csv_file:\n",
    "    csv_reader = csv.reader(csv_file, delimiter='\\t' ) # write a new csv file\n",
    "    with open('new_name.csv', 'w') as new_file:\n",
    "        csv_writer = csv.writer(new_file) # comma as delimiter by default\n",
    "        for line in csv_reader:\n",
    "            csv_writer.writerow(line)"
   ]
  },
  {
   "cell_type": "code",
   "execution_count": 10,
   "metadata": {
    "scrolled": true
   },
   "outputs": [
    {
     "name": "stdout",
     "output_type": "stream",
     "text": [
      "OrderedDict([('first_name', 'John'), ('last_name', 'Doe'), ('email', 'john-doe@gmail.com')])\n",
      "OrderedDict([('first_name', 'Mary'), ('last_name', 'Smith-Robinson'), ('email', 'mary@gmail.com')])\n",
      "OrderedDict([('first_name', 'Dave'), ('last_name', 'Smith'), ('email', 'davesmith@gmail.com')])\n",
      "OrderedDict([('first_name', 'Jane'), ('last_name', 'Stuart'), ('email', 'janestuart@gmail.com')])\n",
      "OrderedDict([('first_name', 'Tom'), ('last_name', 'Wright'), ('email', 'tomwright@gmail.com')])\n"
     ]
    }
   ],
   "source": [
    "with open('name.csv', 'r') as csv_file: # read content using dictionary reader, more obvious what is doing\n",
    "    csv_reader = csv.DictReader(csv_file, delimiter='\\t' )\n",
    "    \n",
    "    for line in csv_reader:\n",
    "        print(line)\n",
    "#         print(line['email']) # access email by using key 'email'"
   ]
  },
  {
   "cell_type": "code",
   "execution_count": 13,
   "metadata": {},
   "outputs": [],
   "source": [
    "with open('name.csv', 'r') as csv_file: # read content using dictionary reader\n",
    "    csv_reader = csv.DictReader(csv_file, delimiter='\\t' )\n",
    "    with open('new_name.csv', 'w') as new_file:\n",
    "        fieldnames = ['first_name', 'last_name', 'email'] # define fields\n",
    "        csv_writer = csv.DictWriter(new_file, fieldnames=fieldnames) # comma as delimiter by default\n",
    "        csv_writer.writeheader()  # include fields in new file\n",
    "        for line in csv_reader:\n",
    "            del line['email']# exclude 'email' field in new file\n",
    "            csv_writer.writerow(line)"
   ]
  },
  {
   "cell_type": "code",
   "execution_count": null,
   "metadata": {},
   "outputs": [],
   "source": []
  }
 ],
 "metadata": {
  "kernelspec": {
   "display_name": "Python 3",
   "language": "python",
   "name": "python3"
  },
  "language_info": {
   "codemirror_mode": {
    "name": "ipython",
    "version": 3
   },
   "file_extension": ".py",
   "mimetype": "text/x-python",
   "name": "python",
   "nbconvert_exporter": "python",
   "pygments_lexer": "ipython3",
   "version": "3.7.5"
  }
 },
 "nbformat": 4,
 "nbformat_minor": 4
}
